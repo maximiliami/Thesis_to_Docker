{
 "cells": [
  {
   "cell_type": "markdown",
   "source": [
    "# Hyperparameteroptimierung\n",
    "Import der verwendeten Pakete"
   ],
   "metadata": {
    "collapsed": false
   }
  },
  {
   "cell_type": "code",
   "execution_count": 1,
   "outputs": [],
   "source": [
    "import keras\n",
    "import numpy as np\n",
    "from scipy.stats import reciprocal\n",
    "from sklearn.model_selection import RandomizedSearchCV, TimeSeriesSplit\n",
    "from joblib import load\n",
    "from tensorflow.keras.models import Sequential\n",
    "from tensorflow.keras.layers import LSTM, Dense, Bidirectional, Dropout\n",
    "from tensorflow.keras.callbacks import EarlyStopping, ModelCheckpoint"
   ],
   "metadata": {
    "collapsed": false,
    "ExecuteTime": {
     "end_time": "2023-06-26T05:01:25.856883Z",
     "start_time": "2023-06-26T05:01:23.746769Z"
    }
   }
  },
  {
   "cell_type": "markdown",
   "source": [
    "## Laden der Trainings- und Testdatensätze"
   ],
   "metadata": {
    "collapsed": false
   }
  },
  {
   "cell_type": "code",
   "execution_count": 2,
   "outputs": [],
   "source": [
    "X_train, y_train = load('../../data/trainingsdata/LGT92-23-33_trainingsdata_for_RNN')\n",
    "X_train_raw, y_train_raw = load('../../data/trainingsdata/LGT92-23-33_trainingsdata_for_RNN_RAW')\n",
    "X_23_test, y_23_test = load('../../data/testdata/LGT92-23_restructured_testdata_for_RNN')\n",
    "X_23_test_raw, y_23_test_raw = load('../../data/testdata/LGT92-23_testdata_for_RNN_RAW')\n",
    "X_33_test, y_33_test = load('../../data/testdata/LGT92-33_restructured_testdata_for_RNN')\n",
    "X_33_test_raw, y_33_test_raw = load('../../data/testdata/LGT92-33_testdata_for_RNN_RAW')\n",
    "\n",
    "scaler_y = load('../../data/scaler/train_scaler_thesis_y.joblib')"
   ],
   "metadata": {
    "collapsed": false,
    "ExecuteTime": {
     "end_time": "2023-06-26T05:01:25.857335Z",
     "start_time": "2023-06-26T05:01:25.856700Z"
    }
   }
  },
  {
   "cell_type": "markdown",
   "source": [
    "## Funktion zum Erstellen und Kompilieren eines Keras-Modells"
   ],
   "metadata": {
    "collapsed": false
   }
  },
  {
   "cell_type": "code",
   "execution_count": 3,
   "outputs": [],
   "source": [
    "window = 24\n",
    "indicators = 5\n",
    "horizon = 1\n",
    "def build_model(n_hidden=2, n_neurons=8, learning_rate=3e-3, input_shape=(window, indicators)):\n",
    "    model = Sequential()\n",
    "    model.add(LSTM(input_shape=input_shape, return_sequences=True, units=n_neurons, dropout=0.2))\n",
    "    for i in range(n_hidden):\n",
    "            model.add(LSTM(units=n_neurons, dropout=0.2))\n",
    "    model.add(Dense(units=1))\n",
    "    optimizer = keras.optimizers.Adam(lr=learning_rate)\n",
    "    model.compile(loss='mse', optimizer=optimizer)\n",
    "    return model"
   ],
   "metadata": {
    "collapsed": false,
    "ExecuteTime": {
     "end_time": "2023-06-26T05:01:25.858482Z",
     "start_time": "2023-06-26T05:01:25.857545Z"
    }
   }
  },
  {
   "cell_type": "markdown",
   "source": [
    "## Erstellen eines \"KerasRegressors\"\n",
    "Der \"KerasRegressor\" ermöglicht es, Keras-Modelle in das Scikit-Learn-Framework einzubinden."
   ],
   "metadata": {
    "collapsed": false
   }
  },
  {
   "cell_type": "code",
   "execution_count": 4,
   "outputs": [
    {
     "name": "stderr",
     "output_type": "stream",
     "text": [
      "/var/folders/yq/sk49h1496dd6jjpb80f2pyph0000gn/T/ipykernel_18719/4087176523.py:1: DeprecationWarning: KerasRegressor is deprecated, use Sci-Keras (https://github.com/adriangb/scikeras) instead. See https://www.adriangb.com/scikeras/stable/migration.html for help migrating.\n",
      "  keras_reg = keras.wrappers.scikit_learn.KerasRegressor(build_model)\n"
     ]
    }
   ],
   "source": [
    "keras_reg = keras.wrappers.scikit_learn.KerasRegressor(build_model)"
   ],
   "metadata": {
    "collapsed": false,
    "ExecuteTime": {
     "end_time": "2023-06-26T05:01:25.860313Z",
     "start_time": "2023-06-26T05:01:25.857857Z"
    }
   }
  },
  {
   "cell_type": "markdown",
   "source": [
    "## Hyperparameteroptimierung mittels Randomized Search Cross-Validation\n",
    "\"RandomizedSearchCV\" wird genutzt, um die besten Hyperparameter für das Keras-Modell zu finden.\n",
    "\n",
    "Hinweis: Die Hyperparameteroptimierung kann je nach Rechenleistung sehr viel Zeit in Anspruch nehmen. Die Ergebnisse der Hyperparameteroptimierung können auf verschiedenen Plattformen variieren, da Keras-Modelle mit zufälligen Gewichten initialisiert werden. Dies führt zu unterschiedlichen Startpunkten auf der Verlustfunktion und kann die Anzahl der benötigten Epochen und die Art der Verlaufskurven beeinflussen."
   ],
   "metadata": {
    "collapsed": false
   }
  },
  {
   "cell_type": "code",
   "execution_count": 5,
   "outputs": [
    {
     "name": "stderr",
     "output_type": "stream",
     "text": [
      "2023-06-26 07:01:25.865535: I tensorflow/core/common_runtime/pluggable_device/pluggable_device_factory.cc:306] Could not identify NUMA node of platform GPU ID 0, defaulting to 0. Your kernel may not have been built with NUMA support.\n",
      "2023-06-26 07:01:25.865658: I tensorflow/core/common_runtime/pluggable_device/pluggable_device_factory.cc:272] Created TensorFlow device (/job:localhost/replica:0/task:0/device:GPU:0 with 0 MB memory) -> physical PluggableDevice (device: 0, name: METAL, pci bus id: <undefined>)\n"
     ]
    },
    {
     "name": "stdout",
     "output_type": "stream",
     "text": [
      "Metal device set to: Apple M1 Pro\n"
     ]
    },
    {
     "name": "stderr",
     "output_type": "stream",
     "text": [
      "/Users/maximilianrupprecht/miniforge3/envs/thesis_maximilian_rupprecht/lib/python3.10/site-packages/keras/optimizers/optimizer_v2/adam.py:114: UserWarning: The `lr` argument is deprecated, use `learning_rate` instead.\n",
      "  super().__init__(name, **kwargs)\n"
     ]
    },
    {
     "name": "stdout",
     "output_type": "stream",
     "text": [
      "Epoch 1/30\n"
     ]
    },
    {
     "name": "stderr",
     "output_type": "stream",
     "text": [
      "2023-06-26 07:01:26.107937: W tensorflow/core/platform/profile_utils/cpu_utils.cc:128] Failed to get CPU frequency: 0 Hz\n",
      "2023-06-26 07:01:26.571059: I tensorflow/core/grappler/optimizers/custom_graph_optimizer_registry.cc:114] Plugin optimizer for device_type GPU is enabled.\n",
      "2023-06-26 07:01:26.681393: I tensorflow/core/grappler/optimizers/custom_graph_optimizer_registry.cc:114] Plugin optimizer for device_type GPU is enabled.\n",
      "2023-06-26 07:01:27.573652: I tensorflow/core/grappler/optimizers/custom_graph_optimizer_registry.cc:114] Plugin optimizer for device_type GPU is enabled.\n"
     ]
    },
    {
     "name": "stdout",
     "output_type": "stream",
     "text": [
      "42/42 [==============================] - 3s 32ms/step - loss: 0.2365 - val_loss: 0.0674\n",
      "Epoch 2/30\n"
     ]
    },
    {
     "name": "stderr",
     "output_type": "stream",
     "text": [
      "2023-06-26 07:01:29.002932: I tensorflow/core/grappler/optimizers/custom_graph_optimizer_registry.cc:114] Plugin optimizer for device_type GPU is enabled.\n",
      "2023-06-26 07:01:29.038344: I tensorflow/core/grappler/optimizers/custom_graph_optimizer_registry.cc:114] Plugin optimizer for device_type GPU is enabled.\n"
     ]
    },
    {
     "name": "stdout",
     "output_type": "stream",
     "text": [
      "42/42 [==============================] - 1s 16ms/step - loss: 0.1361 - val_loss: 0.0442\n",
      "Epoch 3/30\n",
      "42/42 [==============================] - 1s 16ms/step - loss: 0.1265 - val_loss: 0.0356\n",
      "Epoch 4/30\n",
      "42/42 [==============================] - 1s 16ms/step - loss: 0.1183 - val_loss: 0.0438\n",
      "Epoch 5/30\n",
      "42/42 [==============================] - 1s 16ms/step - loss: 0.1127 - val_loss: 0.0215\n",
      "Epoch 6/30\n",
      "42/42 [==============================] - 1s 16ms/step - loss: 0.1079 - val_loss: 0.0255\n",
      "Epoch 7/30\n",
      "42/42 [==============================] - 1s 16ms/step - loss: 0.1094 - val_loss: 0.0208\n",
      "Epoch 8/30\n",
      "42/42 [==============================] - 1s 16ms/step - loss: 0.1067 - val_loss: 0.0301\n",
      "Epoch 9/30\n",
      "42/42 [==============================] - 1s 16ms/step - loss: 0.1040 - val_loss: 0.0233\n",
      "Epoch 10/30\n",
      "42/42 [==============================] - 1s 15ms/step - loss: 0.1029 - val_loss: 0.0433\n",
      "Epoch 11/30\n",
      "42/42 [==============================] - 1s 16ms/step - loss: 0.1023 - val_loss: 0.0658\n",
      "Epoch 12/30\n",
      "42/42 [==============================] - 1s 16ms/step - loss: 0.1002 - val_loss: 0.0491\n",
      "Epoch 13/30\n",
      "42/42 [==============================] - 1s 16ms/step - loss: 0.0987 - val_loss: 0.0695\n",
      "Epoch 14/30\n",
      "42/42 [==============================] - 1s 16ms/step - loss: 0.0994 - val_loss: 0.1002\n",
      "Epoch 15/30\n",
      "42/42 [==============================] - 1s 16ms/step - loss: 0.1023 - val_loss: 0.0483\n",
      "Epoch 16/30\n",
      "42/42 [==============================] - 1s 16ms/step - loss: 0.0976 - val_loss: 0.0741\n",
      "42/42 [==============================] - 0s 10ms/step - loss: 0.1505\n",
      "Epoch 1/30\n"
     ]
    },
    {
     "name": "stderr",
     "output_type": "stream",
     "text": [
      "2023-06-26 07:01:40.213008: I tensorflow/core/grappler/optimizers/custom_graph_optimizer_registry.cc:114] Plugin optimizer for device_type GPU is enabled.\n",
      "2023-06-26 07:01:40.314725: I tensorflow/core/grappler/optimizers/custom_graph_optimizer_registry.cc:114] Plugin optimizer for device_type GPU is enabled.\n"
     ]
    },
    {
     "name": "stdout",
     "output_type": "stream",
     "text": [
      " 4/83 [>.............................] - ETA: 1s - loss: 0.4930  "
     ]
    },
    {
     "name": "stderr",
     "output_type": "stream",
     "text": [
      "2023-06-26 07:01:40.431812: I tensorflow/core/grappler/optimizers/custom_graph_optimizer_registry.cc:114] Plugin optimizer for device_type GPU is enabled.\n"
     ]
    },
    {
     "name": "stdout",
     "output_type": "stream",
     "text": [
      "83/83 [==============================] - 3s 22ms/step - loss: 0.1446 - val_loss: 0.0560\n",
      "Epoch 2/30\n"
     ]
    },
    {
     "name": "stderr",
     "output_type": "stream",
     "text": [
      "2023-06-26 07:01:42.154001: I tensorflow/core/grappler/optimizers/custom_graph_optimizer_registry.cc:114] Plugin optimizer for device_type GPU is enabled.\n",
      "2023-06-26 07:01:42.189861: I tensorflow/core/grappler/optimizers/custom_graph_optimizer_registry.cc:114] Plugin optimizer for device_type GPU is enabled.\n"
     ]
    },
    {
     "name": "stdout",
     "output_type": "stream",
     "text": [
      "83/83 [==============================] - 1s 15ms/step - loss: 0.1044 - val_loss: 0.0503\n",
      "Epoch 3/30\n",
      "83/83 [==============================] - 1s 15ms/step - loss: 0.0979 - val_loss: 0.0356\n",
      "Epoch 4/30\n",
      "83/83 [==============================] - 1s 15ms/step - loss: 0.0945 - val_loss: 0.0529\n",
      "Epoch 5/30\n",
      "83/83 [==============================] - 1s 15ms/step - loss: 0.0913 - val_loss: 0.0528\n",
      "Epoch 6/30\n",
      "83/83 [==============================] - 1s 15ms/step - loss: 0.0905 - val_loss: 0.0667\n",
      "Epoch 7/30\n",
      "83/83 [==============================] - 1s 15ms/step - loss: 0.0873 - val_loss: 0.0952\n",
      "Epoch 8/30\n",
      "83/83 [==============================] - 1s 15ms/step - loss: 0.0849 - val_loss: 0.0584\n",
      "Epoch 9/30\n",
      "83/83 [==============================] - 1s 15ms/step - loss: 0.0868 - val_loss: 0.0435\n",
      "Epoch 10/30\n",
      "83/83 [==============================] - 1s 15ms/step - loss: 0.0845 - val_loss: 0.0673\n",
      "Epoch 11/30\n",
      "83/83 [==============================] - 1s 15ms/step - loss: 0.0851 - val_loss: 0.1016\n",
      "Epoch 12/30\n",
      "83/83 [==============================] - 1s 15ms/step - loss: 0.0845 - val_loss: 0.0571\n",
      "42/42 [==============================] - 0s 10ms/step - loss: 0.1073\n",
      "Epoch 1/30\n"
     ]
    },
    {
     "name": "stderr",
     "output_type": "stream",
     "text": [
      "2023-06-26 07:01:57.717166: I tensorflow/core/grappler/optimizers/custom_graph_optimizer_registry.cc:114] Plugin optimizer for device_type GPU is enabled.\n",
      "2023-06-26 07:01:57.877831: I tensorflow/core/grappler/optimizers/custom_graph_optimizer_registry.cc:114] Plugin optimizer for device_type GPU is enabled.\n",
      "2023-06-26 07:01:57.971019: I tensorflow/core/grappler/optimizers/custom_graph_optimizer_registry.cc:114] Plugin optimizer for device_type GPU is enabled.\n",
      "2023-06-26 07:01:58.089823: I tensorflow/core/grappler/optimizers/custom_graph_optimizer_registry.cc:114] Plugin optimizer for device_type GPU is enabled.\n"
     ]
    },
    {
     "name": "stdout",
     "output_type": "stream",
     "text": [
      " 1/42 [..............................] - ETA: 1:00 - loss: 1.4855"
     ]
    },
    {
     "name": "stderr",
     "output_type": "stream",
     "text": [
      "2023-06-26 07:01:58.307964: I tensorflow/core/grappler/optimizers/custom_graph_optimizer_registry.cc:114] Plugin optimizer for device_type GPU is enabled.\n"
     ]
    },
    {
     "name": "stdout",
     "output_type": "stream",
     "text": [
      "42/42 [==============================] - ETA: 0s - loss: 0.1360"
     ]
    },
    {
     "name": "stderr",
     "output_type": "stream",
     "text": [
      "2023-06-26 07:01:59.859079: I tensorflow/core/grappler/optimizers/custom_graph_optimizer_registry.cc:114] Plugin optimizer for device_type GPU is enabled.\n",
      "2023-06-26 07:01:59.915597: I tensorflow/core/grappler/optimizers/custom_graph_optimizer_registry.cc:114] Plugin optimizer for device_type GPU is enabled.\n",
      "2023-06-26 07:01:59.992226: I tensorflow/core/grappler/optimizers/custom_graph_optimizer_registry.cc:114] Plugin optimizer for device_type GPU is enabled.\n"
     ]
    },
    {
     "name": "stdout",
     "output_type": "stream",
     "text": [
      "42/42 [==============================] - 3s 43ms/step - loss: 0.1360 - val_loss: 0.0034\n",
      "Epoch 2/30\n",
      "42/42 [==============================] - 1s 22ms/step - loss: 0.0388 - val_loss: 0.0060\n",
      "Epoch 3/30\n",
      "42/42 [==============================] - 1s 22ms/step - loss: 0.0233 - val_loss: 5.8086e-04\n",
      "Epoch 4/30\n",
      "42/42 [==============================] - 1s 23ms/step - loss: 0.0256 - val_loss: 0.0289\n",
      "Epoch 5/30\n",
      "42/42 [==============================] - 1s 23ms/step - loss: 0.0242 - val_loss: 0.0091\n",
      "Epoch 6/30\n",
      "42/42 [==============================] - 1s 22ms/step - loss: 0.0182 - val_loss: 0.0084\n",
      "Epoch 7/30\n",
      "42/42 [==============================] - 1s 22ms/step - loss: 0.0248 - val_loss: 0.0152\n",
      "Epoch 8/30\n",
      "42/42 [==============================] - 1s 22ms/step - loss: 0.0212 - val_loss: 9.2139e-04\n",
      "Epoch 9/30\n",
      "42/42 [==============================] - 1s 21ms/step - loss: 0.0164 - val_loss: 0.0149\n",
      "Epoch 10/30\n",
      "42/42 [==============================] - 1s 22ms/step - loss: 0.0205 - val_loss: 2.8016e-04\n",
      "Epoch 11/30\n",
      "42/42 [==============================] - 1s 22ms/step - loss: 0.0208 - val_loss: 0.0015\n",
      "Epoch 12/30\n",
      "42/42 [==============================] - 1s 21ms/step - loss: 0.0160 - val_loss: 0.0042\n",
      "Epoch 13/30\n",
      "42/42 [==============================] - 1s 22ms/step - loss: 0.0211 - val_loss: 0.0037\n",
      "Epoch 14/30\n",
      "42/42 [==============================] - 1s 21ms/step - loss: 0.0166 - val_loss: 7.8557e-04\n",
      "Epoch 15/30\n",
      "42/42 [==============================] - 1s 21ms/step - loss: 0.0160 - val_loss: 0.0010\n",
      "Epoch 16/30\n",
      "42/42 [==============================] - 1s 21ms/step - loss: 0.0214 - val_loss: 0.0115\n",
      "Epoch 17/30\n",
      "42/42 [==============================] - 1s 21ms/step - loss: 0.0159 - val_loss: 0.0089\n",
      "Epoch 18/30\n",
      "42/42 [==============================] - 1s 21ms/step - loss: 0.0179 - val_loss: 0.0130\n",
      "Epoch 19/30\n",
      "42/42 [==============================] - 1s 21ms/step - loss: 0.0181 - val_loss: 9.2704e-04\n",
      "42/42 [==============================] - 1s 12ms/step - loss: 0.0287\n",
      "Epoch 1/30\n"
     ]
    },
    {
     "name": "stderr",
     "output_type": "stream",
     "text": [
      "2023-06-26 07:02:18.176084: I tensorflow/core/grappler/optimizers/custom_graph_optimizer_registry.cc:114] Plugin optimizer for device_type GPU is enabled.\n",
      "2023-06-26 07:02:18.321983: I tensorflow/core/grappler/optimizers/custom_graph_optimizer_registry.cc:114] Plugin optimizer for device_type GPU is enabled.\n",
      "2023-06-26 07:02:18.405960: I tensorflow/core/grappler/optimizers/custom_graph_optimizer_registry.cc:114] Plugin optimizer for device_type GPU is enabled.\n",
      "2023-06-26 07:02:18.513321: I tensorflow/core/grappler/optimizers/custom_graph_optimizer_registry.cc:114] Plugin optimizer for device_type GPU is enabled.\n"
     ]
    },
    {
     "name": "stdout",
     "output_type": "stream",
     "text": [
      " 3/83 [>.............................] - ETA: 2s - loss: 0.6619  "
     ]
    },
    {
     "name": "stderr",
     "output_type": "stream",
     "text": [
      "2023-06-26 07:02:18.652084: I tensorflow/core/grappler/optimizers/custom_graph_optimizer_registry.cc:114] Plugin optimizer for device_type GPU is enabled.\n"
     ]
    },
    {
     "name": "stdout",
     "output_type": "stream",
     "text": [
      "83/83 [==============================] - ETA: 0s - loss: 0.0698"
     ]
    },
    {
     "name": "stderr",
     "output_type": "stream",
     "text": [
      "2023-06-26 07:02:20.886393: I tensorflow/core/grappler/optimizers/custom_graph_optimizer_registry.cc:114] Plugin optimizer for device_type GPU is enabled.\n",
      "2023-06-26 07:02:20.935925: I tensorflow/core/grappler/optimizers/custom_graph_optimizer_registry.cc:114] Plugin optimizer for device_type GPU is enabled.\n",
      "2023-06-26 07:02:21.004369: I tensorflow/core/grappler/optimizers/custom_graph_optimizer_registry.cc:114] Plugin optimizer for device_type GPU is enabled.\n"
     ]
    },
    {
     "name": "stdout",
     "output_type": "stream",
     "text": [
      "83/83 [==============================] - 4s 29ms/step - loss: 0.0698 - val_loss: 0.0164\n",
      "Epoch 2/30\n",
      "83/83 [==============================] - 2s 21ms/step - loss: 0.0218 - val_loss: 0.0166\n",
      "Epoch 3/30\n",
      "83/83 [==============================] - 2s 21ms/step - loss: 0.0213 - val_loss: 5.5514e-04\n",
      "Epoch 4/30\n",
      "83/83 [==============================] - 2s 21ms/step - loss: 0.0165 - val_loss: 0.0279\n",
      "Epoch 5/30\n",
      "83/83 [==============================] - 2s 21ms/step - loss: 0.0167 - val_loss: 0.0122\n",
      "Epoch 6/30\n",
      "83/83 [==============================] - 2s 21ms/step - loss: 0.0151 - val_loss: 9.9774e-04\n",
      "Epoch 7/30\n",
      "83/83 [==============================] - 2s 21ms/step - loss: 0.0186 - val_loss: 0.0012\n",
      "Epoch 8/30\n",
      "83/83 [==============================] - 2s 21ms/step - loss: 0.0156 - val_loss: 9.3234e-05\n",
      "Epoch 9/30\n",
      "83/83 [==============================] - 2s 21ms/step - loss: 0.0144 - val_loss: 0.0065\n",
      "Epoch 10/30\n",
      "83/83 [==============================] - 2s 21ms/step - loss: 0.0158 - val_loss: 0.0012\n",
      "Epoch 11/30\n",
      "83/83 [==============================] - 2s 21ms/step - loss: 0.0199 - val_loss: 7.6600e-04\n",
      "Epoch 12/30\n",
      "83/83 [==============================] - 2s 21ms/step - loss: 0.0178 - val_loss: 3.9692e-04\n",
      "Epoch 13/30\n",
      "83/83 [==============================] - 2s 21ms/step - loss: 0.0140 - val_loss: 0.0039\n",
      "Epoch 14/30\n",
      "83/83 [==============================] - 2s 21ms/step - loss: 0.0132 - val_loss: 6.5235e-04\n",
      "Epoch 15/30\n",
      "83/83 [==============================] - 2s 21ms/step - loss: 0.0145 - val_loss: 0.0021\n",
      "Epoch 16/30\n",
      "83/83 [==============================] - 2s 21ms/step - loss: 0.0165 - val_loss: 0.0032\n",
      "Epoch 17/30\n",
      "83/83 [==============================] - 2s 21ms/step - loss: 0.0152 - val_loss: 0.0031\n",
      "42/42 [==============================] - 1s 12ms/step - loss: 0.0166\n",
      "Epoch 1/30\n"
     ]
    },
    {
     "name": "stderr",
     "output_type": "stream",
     "text": [
      "2023-06-26 07:02:50.127358: I tensorflow/core/grappler/optimizers/custom_graph_optimizer_registry.cc:114] Plugin optimizer for device_type GPU is enabled.\n",
      "2023-06-26 07:02:50.225427: I tensorflow/core/grappler/optimizers/custom_graph_optimizer_registry.cc:114] Plugin optimizer for device_type GPU is enabled.\n"
     ]
    },
    {
     "name": "stdout",
     "output_type": "stream",
     "text": [
      " 3/42 [=>............................] - ETA: 1s - loss: 1.5290 "
     ]
    },
    {
     "name": "stderr",
     "output_type": "stream",
     "text": [
      "2023-06-26 07:02:50.489752: I tensorflow/core/grappler/optimizers/custom_graph_optimizer_registry.cc:114] Plugin optimizer for device_type GPU is enabled.\n"
     ]
    },
    {
     "name": "stdout",
     "output_type": "stream",
     "text": [
      "42/42 [==============================] - ETA: 0s - loss: 0.6452"
     ]
    },
    {
     "name": "stderr",
     "output_type": "stream",
     "text": [
      "2023-06-26 07:02:51.501974: I tensorflow/core/grappler/optimizers/custom_graph_optimizer_registry.cc:114] Plugin optimizer for device_type GPU is enabled.\n",
      "2023-06-26 07:02:51.535245: I tensorflow/core/grappler/optimizers/custom_graph_optimizer_registry.cc:114] Plugin optimizer for device_type GPU is enabled.\n"
     ]
    },
    {
     "name": "stdout",
     "output_type": "stream",
     "text": [
      "42/42 [==============================] - 2s 27ms/step - loss: 0.6452 - val_loss: 0.2776\n",
      "Epoch 2/30\n",
      "42/42 [==============================] - 1s 15ms/step - loss: 0.2563 - val_loss: 0.2169\n",
      "Epoch 3/30\n",
      "42/42 [==============================] - 1s 15ms/step - loss: 0.2209 - val_loss: 0.1764\n",
      "Epoch 4/30\n",
      "42/42 [==============================] - 1s 15ms/step - loss: 0.2016 - val_loss: 0.1536\n",
      "Epoch 5/30\n",
      "42/42 [==============================] - 1s 15ms/step - loss: 0.1852 - val_loss: 0.1382\n",
      "Epoch 6/30\n",
      "42/42 [==============================] - 1s 15ms/step - loss: 0.1769 - val_loss: 0.1305\n",
      "Epoch 7/30\n",
      "42/42 [==============================] - 1s 15ms/step - loss: 0.1715 - val_loss: 0.1183\n",
      "Epoch 8/30\n",
      "42/42 [==============================] - 1s 15ms/step - loss: 0.1688 - val_loss: 0.1150\n",
      "Epoch 9/30\n",
      "42/42 [==============================] - 1s 15ms/step - loss: 0.1636 - val_loss: 0.1041\n",
      "Epoch 10/30\n",
      "42/42 [==============================] - 1s 15ms/step - loss: 0.1599 - val_loss: 0.0982\n",
      "Epoch 11/30\n",
      "42/42 [==============================] - 1s 15ms/step - loss: 0.1558 - val_loss: 0.0883\n",
      "Epoch 12/30\n",
      "42/42 [==============================] - 1s 15ms/step - loss: 0.1541 - val_loss: 0.0877\n",
      "Epoch 13/30\n",
      "42/42 [==============================] - 1s 15ms/step - loss: 0.1472 - val_loss: 0.0804\n",
      "Epoch 14/30\n",
      "42/42 [==============================] - 1s 15ms/step - loss: 0.1469 - val_loss: 0.0794\n",
      "Epoch 15/30\n",
      "42/42 [==============================] - 1s 15ms/step - loss: 0.1426 - val_loss: 0.0768\n",
      "Epoch 16/30\n",
      "42/42 [==============================] - 1s 15ms/step - loss: 0.1404 - val_loss: 0.0663\n",
      "Epoch 17/30\n",
      "42/42 [==============================] - 1s 15ms/step - loss: 0.1410 - val_loss: 0.0678\n",
      "Epoch 18/30\n",
      "42/42 [==============================] - 1s 15ms/step - loss: 0.1384 - val_loss: 0.0659\n",
      "Epoch 19/30\n",
      "42/42 [==============================] - 1s 15ms/step - loss: 0.1327 - val_loss: 0.0647\n",
      "Epoch 20/30\n",
      "42/42 [==============================] - 1s 15ms/step - loss: 0.1343 - val_loss: 0.0577\n",
      "Epoch 21/30\n",
      "42/42 [==============================] - 1s 15ms/step - loss: 0.1303 - val_loss: 0.0553\n",
      "Epoch 22/30\n",
      "42/42 [==============================] - 1s 15ms/step - loss: 0.1307 - val_loss: 0.0518\n",
      "Epoch 23/30\n",
      "42/42 [==============================] - 1s 15ms/step - loss: 0.1275 - val_loss: 0.0480\n",
      "Epoch 24/30\n",
      "42/42 [==============================] - 1s 15ms/step - loss: 0.1277 - val_loss: 0.0541\n",
      "Epoch 25/30\n",
      "42/42 [==============================] - 1s 15ms/step - loss: 0.1272 - val_loss: 0.0431\n",
      "Epoch 26/30\n",
      "42/42 [==============================] - 1s 15ms/step - loss: 0.1230 - val_loss: 0.0453\n",
      "Epoch 27/30\n",
      "42/42 [==============================] - 1s 15ms/step - loss: 0.1245 - val_loss: 0.0412\n",
      "Epoch 28/30\n",
      "42/42 [==============================] - 1s 15ms/step - loss: 0.1233 - val_loss: 0.0373\n",
      "Epoch 29/30\n",
      "42/42 [==============================] - 1s 15ms/step - loss: 0.1211 - val_loss: 0.0408\n",
      "Epoch 30/30\n",
      "42/42 [==============================] - 1s 15ms/step - loss: 0.1218 - val_loss: 0.0422\n",
      "42/42 [==============================] - 0s 9ms/step - loss: 0.1490\n",
      "Epoch 1/30\n"
     ]
    },
    {
     "name": "stderr",
     "output_type": "stream",
     "text": [
      "2023-06-26 07:03:10.816843: I tensorflow/core/grappler/optimizers/custom_graph_optimizer_registry.cc:114] Plugin optimizer for device_type GPU is enabled.\n",
      "2023-06-26 07:03:10.915400: I tensorflow/core/grappler/optimizers/custom_graph_optimizer_registry.cc:114] Plugin optimizer for device_type GPU is enabled.\n"
     ]
    },
    {
     "name": "stdout",
     "output_type": "stream",
     "text": [
      " 1/83 [..............................] - ETA: 1:12 - loss: 0.7798"
     ]
    },
    {
     "name": "stderr",
     "output_type": "stream",
     "text": [
      "2023-06-26 07:03:11.034429: I tensorflow/core/grappler/optimizers/custom_graph_optimizer_registry.cc:114] Plugin optimizer for device_type GPU is enabled.\n"
     ]
    },
    {
     "name": "stdout",
     "output_type": "stream",
     "text": [
      "83/83 [==============================] - ETA: 0s - loss: 0.3433"
     ]
    },
    {
     "name": "stderr",
     "output_type": "stream",
     "text": [
      "2023-06-26 07:03:12.656611: I tensorflow/core/grappler/optimizers/custom_graph_optimizer_registry.cc:114] Plugin optimizer for device_type GPU is enabled.\n",
      "2023-06-26 07:03:12.689585: I tensorflow/core/grappler/optimizers/custom_graph_optimizer_registry.cc:114] Plugin optimizer for device_type GPU is enabled.\n"
     ]
    },
    {
     "name": "stdout",
     "output_type": "stream",
     "text": [
      "83/83 [==============================] - 3s 20ms/step - loss: 0.3433 - val_loss: 0.2017\n",
      "Epoch 2/30\n",
      "83/83 [==============================] - 1s 14ms/step - loss: 0.1685 - val_loss: 0.1532\n",
      "Epoch 3/30\n",
      "83/83 [==============================] - 1s 14ms/step - loss: 0.1511 - val_loss: 0.1300\n",
      "Epoch 4/30\n",
      "83/83 [==============================] - 1s 14ms/step - loss: 0.1392 - val_loss: 0.1113\n",
      "Epoch 5/30\n",
      "83/83 [==============================] - 1s 14ms/step - loss: 0.1363 - val_loss: 0.1028\n",
      "Epoch 6/30\n",
      "83/83 [==============================] - 1s 14ms/step - loss: 0.1316 - val_loss: 0.0869\n",
      "Epoch 7/30\n",
      "83/83 [==============================] - 1s 14ms/step - loss: 0.1257 - val_loss: 0.0849\n",
      "Epoch 8/30\n",
      "83/83 [==============================] - 1s 14ms/step - loss: 0.1234 - val_loss: 0.0798\n",
      "Epoch 9/30\n",
      "83/83 [==============================] - 1s 14ms/step - loss: 0.1184 - val_loss: 0.0690\n",
      "Epoch 10/30\n",
      "83/83 [==============================] - 1s 14ms/step - loss: 0.1175 - val_loss: 0.0756\n",
      "Epoch 11/30\n",
      "83/83 [==============================] - 1s 14ms/step - loss: 0.1139 - val_loss: 0.0617\n",
      "Epoch 12/30\n",
      "83/83 [==============================] - 1s 14ms/step - loss: 0.1136 - val_loss: 0.0536\n",
      "Epoch 13/30\n",
      "83/83 [==============================] - 1s 14ms/step - loss: 0.1086 - val_loss: 0.0564\n",
      "Epoch 14/30\n",
      "83/83 [==============================] - 1s 14ms/step - loss: 0.1071 - val_loss: 0.0518\n",
      "Epoch 15/30\n",
      "83/83 [==============================] - 1s 14ms/step - loss: 0.1062 - val_loss: 0.0522\n",
      "Epoch 16/30\n",
      "83/83 [==============================] - 1s 14ms/step - loss: 0.1042 - val_loss: 0.0395\n",
      "Epoch 17/30\n",
      "83/83 [==============================] - 1s 14ms/step - loss: 0.1031 - val_loss: 0.0573\n",
      "Epoch 18/30\n",
      "83/83 [==============================] - 1s 14ms/step - loss: 0.1017 - val_loss: 0.0472\n",
      "Epoch 19/30\n",
      "83/83 [==============================] - 1s 14ms/step - loss: 0.1019 - val_loss: 0.0458\n",
      "Epoch 20/30\n",
      "83/83 [==============================] - 1s 14ms/step - loss: 0.1014 - val_loss: 0.0396\n",
      "Epoch 21/30\n",
      "83/83 [==============================] - 1s 14ms/step - loss: 0.1014 - val_loss: 0.0361\n",
      "Epoch 22/30\n",
      "83/83 [==============================] - 1s 14ms/step - loss: 0.0988 - val_loss: 0.0364\n",
      "Epoch 23/30\n",
      "83/83 [==============================] - 1s 14ms/step - loss: 0.0972 - val_loss: 0.0315\n",
      "Epoch 24/30\n",
      "83/83 [==============================] - 1s 15ms/step - loss: 0.0987 - val_loss: 0.0366\n",
      "Epoch 25/30\n",
      "83/83 [==============================] - 1s 14ms/step - loss: 0.0977 - val_loss: 0.0496\n",
      "Epoch 26/30\n",
      "83/83 [==============================] - 1s 15ms/step - loss: 0.0975 - val_loss: 0.0378\n",
      "Epoch 27/30\n",
      "83/83 [==============================] - 1s 15ms/step - loss: 0.0960 - val_loss: 0.0422\n",
      "Epoch 28/30\n",
      "83/83 [==============================] - 1s 15ms/step - loss: 0.0953 - val_loss: 0.0304\n",
      "Epoch 29/30\n",
      "83/83 [==============================] - 1s 15ms/step - loss: 0.0949 - val_loss: 0.0313\n",
      "Epoch 30/30\n",
      "83/83 [==============================] - 1s 14ms/step - loss: 0.0955 - val_loss: 0.0278\n",
      "42/42 [==============================] - 0s 9ms/step - loss: 0.1120\n",
      "Epoch 1/30\n"
     ]
    },
    {
     "name": "stderr",
     "output_type": "stream",
     "text": [
      "2023-06-26 07:03:48.510224: I tensorflow/core/grappler/optimizers/custom_graph_optimizer_registry.cc:114] Plugin optimizer for device_type GPU is enabled.\n",
      "2023-06-26 07:03:48.613265: I tensorflow/core/grappler/optimizers/custom_graph_optimizer_registry.cc:114] Plugin optimizer for device_type GPU is enabled.\n",
      "2023-06-26 07:03:48.767836: I tensorflow/core/grappler/optimizers/custom_graph_optimizer_registry.cc:114] Plugin optimizer for device_type GPU is enabled.\n"
     ]
    },
    {
     "name": "stdout",
     "output_type": "stream",
     "text": [
      "42/42 [==============================] - ETA: 0s - loss: 0.2347"
     ]
    },
    {
     "name": "stderr",
     "output_type": "stream",
     "text": [
      "2023-06-26 07:03:49.883701: I tensorflow/core/grappler/optimizers/custom_graph_optimizer_registry.cc:114] Plugin optimizer for device_type GPU is enabled.\n",
      "2023-06-26 07:03:49.918975: I tensorflow/core/grappler/optimizers/custom_graph_optimizer_registry.cc:114] Plugin optimizer for device_type GPU is enabled.\n"
     ]
    },
    {
     "name": "stdout",
     "output_type": "stream",
     "text": [
      "42/42 [==============================] - 2s 27ms/step - loss: 0.2347 - val_loss: 0.0671\n",
      "Epoch 2/30\n",
      "42/42 [==============================] - 1s 16ms/step - loss: 0.1408 - val_loss: 0.0619\n",
      "Epoch 3/30\n",
      "42/42 [==============================] - 1s 16ms/step - loss: 0.1294 - val_loss: 0.0269\n",
      "Epoch 4/30\n",
      "42/42 [==============================] - 1s 15ms/step - loss: 0.1215 - val_loss: 0.0273\n",
      "Epoch 5/30\n",
      "42/42 [==============================] - 1s 16ms/step - loss: 0.1155 - val_loss: 0.0102\n",
      "Epoch 6/30\n",
      "42/42 [==============================] - 1s 16ms/step - loss: 0.1146 - val_loss: 0.0172\n",
      "Epoch 7/30\n",
      "42/42 [==============================] - 1s 15ms/step - loss: 0.1103 - val_loss: 0.0305\n",
      "Epoch 8/30\n",
      "42/42 [==============================] - 1s 15ms/step - loss: 0.1074 - val_loss: 0.0288\n",
      "Epoch 9/30\n",
      "42/42 [==============================] - 1s 15ms/step - loss: 0.1031 - val_loss: 0.0275\n",
      "Epoch 10/30\n",
      "42/42 [==============================] - 1s 15ms/step - loss: 0.1037 - val_loss: 0.0403\n",
      "Epoch 11/30\n",
      "42/42 [==============================] - 1s 15ms/step - loss: 0.1053 - val_loss: 0.0347\n",
      "Epoch 12/30\n",
      "42/42 [==============================] - 1s 15ms/step - loss: 0.1025 - val_loss: 0.0472\n",
      "Epoch 13/30\n",
      "42/42 [==============================] - 1s 15ms/step - loss: 0.1037 - val_loss: 0.0653\n",
      "Epoch 14/30\n",
      "42/42 [==============================] - 1s 16ms/step - loss: 0.1013 - val_loss: 0.0404\n",
      "42/42 [==============================] - 0s 10ms/step - loss: 0.0786\n",
      "Epoch 1/30\n"
     ]
    },
    {
     "name": "stderr",
     "output_type": "stream",
     "text": [
      "2023-06-26 07:03:59.513981: I tensorflow/core/grappler/optimizers/custom_graph_optimizer_registry.cc:114] Plugin optimizer for device_type GPU is enabled.\n",
      "2023-06-26 07:03:59.617658: I tensorflow/core/grappler/optimizers/custom_graph_optimizer_registry.cc:114] Plugin optimizer for device_type GPU is enabled.\n"
     ]
    },
    {
     "name": "stdout",
     "output_type": "stream",
     "text": [
      " 1/83 [..............................] - ETA: 1:07 - loss: 0.8879"
     ]
    },
    {
     "name": "stderr",
     "output_type": "stream",
     "text": [
      "2023-06-26 07:03:59.770455: I tensorflow/core/grappler/optimizers/custom_graph_optimizer_registry.cc:114] Plugin optimizer for device_type GPU is enabled.\n"
     ]
    },
    {
     "name": "stdout",
     "output_type": "stream",
     "text": [
      "83/83 [==============================] - ETA: 0s - loss: 0.1434"
     ]
    },
    {
     "name": "stderr",
     "output_type": "stream",
     "text": [
      "2023-06-26 07:04:01.521810: I tensorflow/core/grappler/optimizers/custom_graph_optimizer_registry.cc:114] Plugin optimizer for device_type GPU is enabled.\n",
      "2023-06-26 07:04:01.560738: I tensorflow/core/grappler/optimizers/custom_graph_optimizer_registry.cc:114] Plugin optimizer for device_type GPU is enabled.\n"
     ]
    },
    {
     "name": "stdout",
     "output_type": "stream",
     "text": [
      "83/83 [==============================] - 3s 22ms/step - loss: 0.1434 - val_loss: 0.0498\n",
      "Epoch 2/30\n",
      "83/83 [==============================] - 1s 15ms/step - loss: 0.1080 - val_loss: 0.0363\n",
      "Epoch 3/30\n",
      "83/83 [==============================] - 1s 15ms/step - loss: 0.1021 - val_loss: 0.0226\n",
      "Epoch 4/30\n",
      "83/83 [==============================] - 1s 15ms/step - loss: 0.0951 - val_loss: 0.0372\n",
      "Epoch 5/30\n",
      "83/83 [==============================] - 1s 15ms/step - loss: 0.0901 - val_loss: 0.0294\n",
      "Epoch 6/30\n",
      "83/83 [==============================] - 1s 15ms/step - loss: 0.0873 - val_loss: 0.0548\n",
      "Epoch 7/30\n",
      "83/83 [==============================] - 1s 15ms/step - loss: 0.0882 - val_loss: 0.0649\n",
      "Epoch 8/30\n",
      "83/83 [==============================] - 1s 15ms/step - loss: 0.0862 - val_loss: 0.0726\n",
      "Epoch 9/30\n",
      "83/83 [==============================] - 1s 15ms/step - loss: 0.0865 - val_loss: 0.0822\n",
      "Epoch 10/30\n",
      "83/83 [==============================] - 1s 14ms/step - loss: 0.0854 - val_loss: 0.0762\n",
      "Epoch 11/30\n",
      "83/83 [==============================] - 1s 14ms/step - loss: 0.0867 - val_loss: 0.0616\n",
      "Epoch 12/30\n",
      "83/83 [==============================] - 1s 14ms/step - loss: 0.0845 - val_loss: 0.0794\n",
      "42/42 [==============================] - 0s 9ms/step - loss: 0.1051\n",
      "Epoch 1/30\n"
     ]
    },
    {
     "name": "stderr",
     "output_type": "stream",
     "text": [
      "2023-06-26 07:04:16.537487: I tensorflow/core/grappler/optimizers/custom_graph_optimizer_registry.cc:114] Plugin optimizer for device_type GPU is enabled.\n",
      "2023-06-26 07:04:16.639569: I tensorflow/core/grappler/optimizers/custom_graph_optimizer_registry.cc:114] Plugin optimizer for device_type GPU is enabled.\n"
     ]
    },
    {
     "name": "stdout",
     "output_type": "stream",
     "text": [
      " 1/42 [..............................] - ETA: 31s - loss: 1.0457"
     ]
    },
    {
     "name": "stderr",
     "output_type": "stream",
     "text": [
      "2023-06-26 07:04:16.786173: I tensorflow/core/grappler/optimizers/custom_graph_optimizer_registry.cc:114] Plugin optimizer for device_type GPU is enabled.\n"
     ]
    },
    {
     "name": "stdout",
     "output_type": "stream",
     "text": [
      "42/42 [==============================] - ETA: 0s - loss: 0.2568"
     ]
    },
    {
     "name": "stderr",
     "output_type": "stream",
     "text": [
      "2023-06-26 07:04:17.953158: I tensorflow/core/grappler/optimizers/custom_graph_optimizer_registry.cc:114] Plugin optimizer for device_type GPU is enabled.\n",
      "2023-06-26 07:04:17.991036: I tensorflow/core/grappler/optimizers/custom_graph_optimizer_registry.cc:114] Plugin optimizer for device_type GPU is enabled.\n"
     ]
    },
    {
     "name": "stdout",
     "output_type": "stream",
     "text": [
      "42/42 [==============================] - 2s 30ms/step - loss: 0.2568 - val_loss: 0.0668\n",
      "Epoch 2/30\n",
      "42/42 [==============================] - 1s 15ms/step - loss: 0.1419 - val_loss: 0.0539\n",
      "Epoch 3/30\n",
      "42/42 [==============================] - 1s 15ms/step - loss: 0.1281 - val_loss: 0.0567\n",
      "Epoch 4/30\n",
      "42/42 [==============================] - 1s 15ms/step - loss: 0.1215 - val_loss: 0.0322\n",
      "Epoch 5/30\n",
      "42/42 [==============================] - 1s 15ms/step - loss: 0.1174 - val_loss: 0.0273\n",
      "Epoch 6/30\n",
      "42/42 [==============================] - 1s 15ms/step - loss: 0.1145 - val_loss: 0.0410\n",
      "Epoch 7/30\n",
      "42/42 [==============================] - 1s 15ms/step - loss: 0.1122 - val_loss: 0.0273\n",
      "Epoch 8/30\n",
      "42/42 [==============================] - 1s 15ms/step - loss: 0.1106 - val_loss: 0.0327\n",
      "Epoch 9/30\n",
      "42/42 [==============================] - 1s 15ms/step - loss: 0.1066 - val_loss: 0.0230\n",
      "Epoch 10/30\n",
      "42/42 [==============================] - 1s 15ms/step - loss: 0.1073 - val_loss: 0.0259\n",
      "Epoch 11/30\n",
      "42/42 [==============================] - 1s 15ms/step - loss: 0.1050 - val_loss: 0.0491\n",
      "Epoch 12/30\n",
      "42/42 [==============================] - 1s 15ms/step - loss: 0.1039 - val_loss: 0.0395\n",
      "Epoch 13/30\n",
      "42/42 [==============================] - 1s 15ms/step - loss: 0.1029 - val_loss: 0.0412\n",
      "Epoch 14/30\n",
      "42/42 [==============================] - 1s 15ms/step - loss: 0.1016 - val_loss: 0.0439\n",
      "Epoch 15/30\n",
      "42/42 [==============================] - 1s 15ms/step - loss: 0.1017 - val_loss: 0.0440\n",
      "Epoch 16/30\n",
      "42/42 [==============================] - 1s 15ms/step - loss: 0.1021 - val_loss: 0.0282\n",
      "Epoch 17/30\n",
      "42/42 [==============================] - 1s 15ms/step - loss: 0.1017 - val_loss: 0.0447\n",
      "Epoch 18/30\n",
      "42/42 [==============================] - 1s 15ms/step - loss: 0.1015 - val_loss: 0.0514\n",
      "42/42 [==============================] - 0s 9ms/step - loss: 0.0962\n",
      "Epoch 1/30\n"
     ]
    },
    {
     "name": "stderr",
     "output_type": "stream",
     "text": [
      "2023-06-26 07:04:29.750739: I tensorflow/core/grappler/optimizers/custom_graph_optimizer_registry.cc:114] Plugin optimizer for device_type GPU is enabled.\n",
      "2023-06-26 07:04:29.866860: I tensorflow/core/grappler/optimizers/custom_graph_optimizer_registry.cc:114] Plugin optimizer for device_type GPU is enabled.\n"
     ]
    },
    {
     "name": "stdout",
     "output_type": "stream",
     "text": [
      " 1/83 [..............................] - ETA: 1:07 - loss: 0.5254"
     ]
    },
    {
     "name": "stderr",
     "output_type": "stream",
     "text": [
      "2023-06-26 07:04:30.014306: I tensorflow/core/grappler/optimizers/custom_graph_optimizer_registry.cc:114] Plugin optimizer for device_type GPU is enabled.\n"
     ]
    },
    {
     "name": "stdout",
     "output_type": "stream",
     "text": [
      "83/83 [==============================] - ETA: 0s - loss: 0.1602"
     ]
    },
    {
     "name": "stderr",
     "output_type": "stream",
     "text": [
      "2023-06-26 07:04:31.708668: I tensorflow/core/grappler/optimizers/custom_graph_optimizer_registry.cc:114] Plugin optimizer for device_type GPU is enabled.\n",
      "2023-06-26 07:04:31.744871: I tensorflow/core/grappler/optimizers/custom_graph_optimizer_registry.cc:114] Plugin optimizer for device_type GPU is enabled.\n"
     ]
    },
    {
     "name": "stdout",
     "output_type": "stream",
     "text": [
      "83/83 [==============================] - 3s 21ms/step - loss: 0.1602 - val_loss: 0.0754\n",
      "Epoch 2/30\n",
      "83/83 [==============================] - 1s 15ms/step - loss: 0.1086 - val_loss: 0.0427\n",
      "Epoch 3/30\n",
      "83/83 [==============================] - 1s 15ms/step - loss: 0.1008 - val_loss: 0.0558\n",
      "Epoch 4/30\n",
      "83/83 [==============================] - 1s 14ms/step - loss: 0.0978 - val_loss: 0.0368\n",
      "Epoch 5/30\n",
      "83/83 [==============================] - 1s 14ms/step - loss: 0.0926 - val_loss: 0.0503\n",
      "Epoch 6/30\n",
      "83/83 [==============================] - 1s 15ms/step - loss: 0.0917 - val_loss: 0.0512\n",
      "Epoch 7/30\n",
      "83/83 [==============================] - 1s 14ms/step - loss: 0.0887 - val_loss: 0.0482\n",
      "Epoch 8/30\n",
      "83/83 [==============================] - 1s 13ms/step - loss: 0.0876 - val_loss: 0.0956\n",
      "Epoch 9/30\n",
      "83/83 [==============================] - 1s 13ms/step - loss: 0.0868 - val_loss: 0.0703\n",
      "Epoch 10/30\n",
      "83/83 [==============================] - 1s 13ms/step - loss: 0.0848 - val_loss: 0.0979\n",
      "Epoch 11/30\n",
      "83/83 [==============================] - 1s 13ms/step - loss: 0.0851 - val_loss: 0.1014\n",
      "Epoch 12/30\n",
      "83/83 [==============================] - 1s 14ms/step - loss: 0.0858 - val_loss: 0.1011\n",
      "Epoch 13/30\n",
      "83/83 [==============================] - 1s 13ms/step - loss: 0.0836 - val_loss: 0.0998\n",
      "42/42 [==============================] - 0s 8ms/step - loss: 0.1079\n",
      "Epoch 1/30\n"
     ]
    },
    {
     "name": "stderr",
     "output_type": "stream",
     "text": [
      "2023-06-26 07:04:46.904013: I tensorflow/core/grappler/optimizers/custom_graph_optimizer_registry.cc:114] Plugin optimizer for device_type GPU is enabled.\n",
      "2023-06-26 07:04:47.005879: I tensorflow/core/grappler/optimizers/custom_graph_optimizer_registry.cc:114] Plugin optimizer for device_type GPU is enabled.\n"
     ]
    },
    {
     "name": "stdout",
     "output_type": "stream",
     "text": [
      " 1/42 [..............................] - ETA: 38s - loss: 1.5378"
     ]
    },
    {
     "name": "stderr",
     "output_type": "stream",
     "text": [
      "2023-06-26 07:04:47.151450: I tensorflow/core/grappler/optimizers/custom_graph_optimizer_registry.cc:114] Plugin optimizer for device_type GPU is enabled.\n"
     ]
    },
    {
     "name": "stdout",
     "output_type": "stream",
     "text": [
      "42/42 [==============================] - ETA: 0s - loss: 0.2932"
     ]
    },
    {
     "name": "stderr",
     "output_type": "stream",
     "text": [
      "2023-06-26 07:04:48.217978: I tensorflow/core/grappler/optimizers/custom_graph_optimizer_registry.cc:114] Plugin optimizer for device_type GPU is enabled.\n",
      "2023-06-26 07:04:48.251274: I tensorflow/core/grappler/optimizers/custom_graph_optimizer_registry.cc:114] Plugin optimizer for device_type GPU is enabled.\n"
     ]
    },
    {
     "name": "stdout",
     "output_type": "stream",
     "text": [
      "42/42 [==============================] - 2s 28ms/step - loss: 0.2932 - val_loss: 0.0820\n",
      "Epoch 2/30\n",
      "42/42 [==============================] - 1s 14ms/step - loss: 0.1517 - val_loss: 0.0681\n",
      "Epoch 3/30\n",
      "42/42 [==============================] - 1s 14ms/step - loss: 0.1403 - val_loss: 0.0564\n",
      "Epoch 4/30\n",
      "42/42 [==============================] - 1s 14ms/step - loss: 0.1354 - val_loss: 0.0587\n",
      "Epoch 5/30\n",
      "42/42 [==============================] - 1s 14ms/step - loss: 0.1268 - val_loss: 0.0364\n",
      "Epoch 6/30\n",
      "42/42 [==============================] - 1s 14ms/step - loss: 0.1190 - val_loss: 0.0275\n",
      "Epoch 7/30\n",
      "42/42 [==============================] - 1s 14ms/step - loss: 0.1158 - val_loss: 0.0289\n",
      "Epoch 8/30\n",
      "42/42 [==============================] - 1s 14ms/step - loss: 0.1151 - val_loss: 0.0307\n",
      "Epoch 9/30\n",
      "42/42 [==============================] - 1s 14ms/step - loss: 0.1126 - val_loss: 0.0221\n",
      "Epoch 10/30\n",
      "42/42 [==============================] - 1s 14ms/step - loss: 0.1120 - val_loss: 0.0325\n",
      "Epoch 11/30\n",
      "42/42 [==============================] - 1s 14ms/step - loss: 0.1089 - val_loss: 0.0363\n",
      "Epoch 12/30\n",
      "42/42 [==============================] - 1s 15ms/step - loss: 0.1072 - val_loss: 0.0196\n",
      "Epoch 13/30\n",
      "42/42 [==============================] - 1s 14ms/step - loss: 0.1075 - val_loss: 0.0195\n",
      "Epoch 14/30\n",
      "42/42 [==============================] - 1s 16ms/step - loss: 0.1061 - val_loss: 0.0332\n",
      "Epoch 15/30\n",
      "42/42 [==============================] - 1s 15ms/step - loss: 0.1070 - val_loss: 0.0221\n",
      "Epoch 16/30\n",
      "42/42 [==============================] - 1s 15ms/step - loss: 0.1047 - val_loss: 0.0303\n",
      "Epoch 17/30\n",
      "42/42 [==============================] - 1s 15ms/step - loss: 0.1061 - val_loss: 0.0321\n",
      "Epoch 18/30\n",
      "42/42 [==============================] - 1s 15ms/step - loss: 0.1019 - val_loss: 0.0316\n",
      "Epoch 19/30\n",
      "42/42 [==============================] - 1s 15ms/step - loss: 0.1024 - val_loss: 0.0439\n",
      "Epoch 20/30\n",
      "42/42 [==============================] - 1s 15ms/step - loss: 0.1018 - val_loss: 0.0405\n",
      "Epoch 21/30\n",
      "42/42 [==============================] - 1s 16ms/step - loss: 0.1020 - val_loss: 0.0380\n",
      "Epoch 22/30\n",
      "42/42 [==============================] - 1s 16ms/step - loss: 0.1027 - val_loss: 0.0373\n",
      "42/42 [==============================] - 0s 9ms/step - loss: 0.0897\n",
      "Epoch 1/30\n"
     ]
    },
    {
     "name": "stderr",
     "output_type": "stream",
     "text": [
      "2023-06-26 07:05:02.319995: I tensorflow/core/grappler/optimizers/custom_graph_optimizer_registry.cc:114] Plugin optimizer for device_type GPU is enabled.\n",
      "2023-06-26 07:05:02.448825: I tensorflow/core/grappler/optimizers/custom_graph_optimizer_registry.cc:114] Plugin optimizer for device_type GPU is enabled.\n"
     ]
    },
    {
     "name": "stdout",
     "output_type": "stream",
     "text": [
      " 1/83 [..............................] - ETA: 1:08 - loss: 1.1862"
     ]
    },
    {
     "name": "stderr",
     "output_type": "stream",
     "text": [
      "2023-06-26 07:05:02.603384: I tensorflow/core/grappler/optimizers/custom_graph_optimizer_registry.cc:114] Plugin optimizer for device_type GPU is enabled.\n"
     ]
    },
    {
     "name": "stdout",
     "output_type": "stream",
     "text": [
      "83/83 [==============================] - ETA: 0s - loss: 0.1955"
     ]
    },
    {
     "name": "stderr",
     "output_type": "stream",
     "text": [
      "2023-06-26 07:05:04.310531: I tensorflow/core/grappler/optimizers/custom_graph_optimizer_registry.cc:114] Plugin optimizer for device_type GPU is enabled.\n",
      "2023-06-26 07:05:04.343491: I tensorflow/core/grappler/optimizers/custom_graph_optimizer_registry.cc:114] Plugin optimizer for device_type GPU is enabled.\n"
     ]
    },
    {
     "name": "stdout",
     "output_type": "stream",
     "text": [
      "83/83 [==============================] - 3s 22ms/step - loss: 0.1955 - val_loss: 0.0758\n",
      "Epoch 2/30\n",
      "83/83 [==============================] - 1s 15ms/step - loss: 0.1172 - val_loss: 0.0682\n",
      "Epoch 3/30\n",
      "83/83 [==============================] - 1s 15ms/step - loss: 0.1097 - val_loss: 0.0414\n",
      "Epoch 4/30\n",
      "83/83 [==============================] - 1s 14ms/step - loss: 0.1041 - val_loss: 0.0545\n",
      "Epoch 5/30\n",
      "83/83 [==============================] - 1s 15ms/step - loss: 0.1021 - val_loss: 0.0441\n",
      "Epoch 6/30\n",
      "83/83 [==============================] - 1s 15ms/step - loss: 0.0975 - val_loss: 0.0279\n",
      "Epoch 7/30\n",
      "83/83 [==============================] - 1s 15ms/step - loss: 0.0945 - val_loss: 0.0584\n",
      "Epoch 8/30\n",
      "83/83 [==============================] - 1s 15ms/step - loss: 0.0933 - val_loss: 0.0600\n",
      "Epoch 9/30\n",
      "83/83 [==============================] - 1s 15ms/step - loss: 0.0922 - val_loss: 0.0262\n",
      "Epoch 10/30\n",
      "83/83 [==============================] - 1s 15ms/step - loss: 0.0915 - val_loss: 0.0619\n",
      "Epoch 11/30\n",
      "83/83 [==============================] - 1s 15ms/step - loss: 0.0893 - val_loss: 0.0548\n",
      "Epoch 12/30\n",
      "83/83 [==============================] - 1s 15ms/step - loss: 0.0884 - val_loss: 0.0588\n",
      "Epoch 13/30\n",
      "83/83 [==============================] - 1s 14ms/step - loss: 0.0879 - val_loss: 0.0682\n",
      "Epoch 14/30\n",
      "83/83 [==============================] - 1s 14ms/step - loss: 0.0870 - val_loss: 0.0911\n",
      "Epoch 15/30\n",
      "83/83 [==============================] - 1s 15ms/step - loss: 0.0858 - val_loss: 0.0860\n",
      "Epoch 16/30\n",
      "83/83 [==============================] - 1s 15ms/step - loss: 0.0865 - val_loss: 0.0588\n",
      "Epoch 17/30\n",
      "83/83 [==============================] - 1s 15ms/step - loss: 0.0870 - val_loss: 0.0937\n",
      "Epoch 18/30\n",
      "83/83 [==============================] - 1s 15ms/step - loss: 0.0851 - val_loss: 0.0618\n",
      "42/42 [==============================] - 0s 9ms/step - loss: 0.1140\n",
      "Epoch 1/30\n"
     ]
    },
    {
     "name": "stderr",
     "output_type": "stream",
     "text": [
      "2023-06-26 07:05:26.615648: I tensorflow/core/grappler/optimizers/custom_graph_optimizer_registry.cc:114] Plugin optimizer for device_type GPU is enabled.\n",
      "2023-06-26 07:05:26.727443: I tensorflow/core/grappler/optimizers/custom_graph_optimizer_registry.cc:114] Plugin optimizer for device_type GPU is enabled.\n"
     ]
    },
    {
     "name": "stdout",
     "output_type": "stream",
     "text": [
      " 1/42 [..............................] - ETA: 36s - loss: 1.8103"
     ]
    },
    {
     "name": "stderr",
     "output_type": "stream",
     "text": [
      "2023-06-26 07:05:26.921933: I tensorflow/core/grappler/optimizers/custom_graph_optimizer_registry.cc:114] Plugin optimizer for device_type GPU is enabled.\n"
     ]
    },
    {
     "name": "stdout",
     "output_type": "stream",
     "text": [
      "42/42 [==============================] - ETA: 0s - loss: 0.6588"
     ]
    },
    {
     "name": "stderr",
     "output_type": "stream",
     "text": [
      "2023-06-26 07:05:28.152303: I tensorflow/core/grappler/optimizers/custom_graph_optimizer_registry.cc:114] Plugin optimizer for device_type GPU is enabled.\n",
      "2023-06-26 07:05:28.187660: I tensorflow/core/grappler/optimizers/custom_graph_optimizer_registry.cc:114] Plugin optimizer for device_type GPU is enabled.\n"
     ]
    },
    {
     "name": "stdout",
     "output_type": "stream",
     "text": [
      "42/42 [==============================] - 2s 32ms/step - loss: 0.6588 - val_loss: 0.3332\n",
      "Epoch 2/30\n",
      "42/42 [==============================] - 1s 16ms/step - loss: 0.2436 - val_loss: 0.1999\n",
      "Epoch 3/30\n",
      "42/42 [==============================] - 1s 16ms/step - loss: 0.2084 - val_loss: 0.1652\n",
      "Epoch 4/30\n",
      "42/42 [==============================] - 1s 15ms/step - loss: 0.1916 - val_loss: 0.1485\n",
      "Epoch 5/30\n",
      "42/42 [==============================] - 1s 16ms/step - loss: 0.1787 - val_loss: 0.1242\n",
      "Epoch 6/30\n",
      "42/42 [==============================] - 1s 15ms/step - loss: 0.1720 - val_loss: 0.1085\n",
      "Epoch 7/30\n",
      "42/42 [==============================] - 1s 15ms/step - loss: 0.1661 - val_loss: 0.0995\n",
      "Epoch 8/30\n",
      "42/42 [==============================] - 1s 15ms/step - loss: 0.1590 - val_loss: 0.0922\n",
      "Epoch 9/30\n",
      "42/42 [==============================] - 1s 16ms/step - loss: 0.1521 - val_loss: 0.0855\n",
      "Epoch 10/30\n",
      "42/42 [==============================] - 1s 15ms/step - loss: 0.1460 - val_loss: 0.0757\n",
      "Epoch 11/30\n",
      "42/42 [==============================] - 1s 15ms/step - loss: 0.1423 - val_loss: 0.0731\n",
      "Epoch 12/30\n",
      "42/42 [==============================] - 1s 15ms/step - loss: 0.1387 - val_loss: 0.0601\n",
      "Epoch 13/30\n",
      "42/42 [==============================] - 1s 16ms/step - loss: 0.1337 - val_loss: 0.0604\n",
      "Epoch 14/30\n",
      "42/42 [==============================] - 1s 16ms/step - loss: 0.1339 - val_loss: 0.0507\n",
      "Epoch 15/30\n",
      "42/42 [==============================] - 1s 16ms/step - loss: 0.1320 - val_loss: 0.0488\n",
      "Epoch 16/30\n",
      "42/42 [==============================] - 1s 15ms/step - loss: 0.1282 - val_loss: 0.0536\n",
      "Epoch 17/30\n",
      "42/42 [==============================] - 1s 16ms/step - loss: 0.1300 - val_loss: 0.0499\n",
      "Epoch 18/30\n",
      "42/42 [==============================] - 1s 16ms/step - loss: 0.1266 - val_loss: 0.0440\n",
      "Epoch 19/30\n",
      "42/42 [==============================] - 1s 15ms/step - loss: 0.1254 - val_loss: 0.0456\n",
      "Epoch 20/30\n",
      "42/42 [==============================] - 1s 15ms/step - loss: 0.1246 - val_loss: 0.0361\n",
      "Epoch 21/30\n",
      "42/42 [==============================] - 1s 15ms/step - loss: 0.1214 - val_loss: 0.0458\n",
      "Epoch 22/30\n",
      "42/42 [==============================] - 1s 15ms/step - loss: 0.1181 - val_loss: 0.0411\n",
      "Epoch 23/30\n",
      "42/42 [==============================] - 1s 16ms/step - loss: 0.1202 - val_loss: 0.0348\n",
      "Epoch 24/30\n",
      "42/42 [==============================] - 1s 15ms/step - loss: 0.1177 - val_loss: 0.0432\n",
      "Epoch 25/30\n",
      "42/42 [==============================] - 1s 15ms/step - loss: 0.1167 - val_loss: 0.0329\n",
      "Epoch 26/30\n",
      "42/42 [==============================] - 1s 15ms/step - loss: 0.1172 - val_loss: 0.0423\n",
      "Epoch 27/30\n",
      "42/42 [==============================] - 1s 15ms/step - loss: 0.1167 - val_loss: 0.0327\n",
      "Epoch 28/30\n",
      "42/42 [==============================] - 1s 15ms/step - loss: 0.1153 - val_loss: 0.0347\n",
      "Epoch 29/30\n",
      "42/42 [==============================] - 1s 15ms/step - loss: 0.1133 - val_loss: 0.0380\n",
      "Epoch 30/30\n",
      "42/42 [==============================] - 1s 15ms/step - loss: 0.1136 - val_loss: 0.0240\n",
      "42/42 [==============================] - 0s 9ms/step - loss: 0.1176\n",
      "Epoch 1/30\n"
     ]
    },
    {
     "name": "stderr",
     "output_type": "stream",
     "text": [
      "2023-06-26 07:05:48.130869: I tensorflow/core/grappler/optimizers/custom_graph_optimizer_registry.cc:114] Plugin optimizer for device_type GPU is enabled.\n",
      "2023-06-26 07:05:48.254703: I tensorflow/core/grappler/optimizers/custom_graph_optimizer_registry.cc:114] Plugin optimizer for device_type GPU is enabled.\n"
     ]
    },
    {
     "name": "stdout",
     "output_type": "stream",
     "text": [
      " 1/83 [..............................] - ETA: 1:07 - loss: 0.9095"
     ]
    },
    {
     "name": "stderr",
     "output_type": "stream",
     "text": [
      "2023-06-26 07:05:48.424654: I tensorflow/core/grappler/optimizers/custom_graph_optimizer_registry.cc:114] Plugin optimizer for device_type GPU is enabled.\n"
     ]
    },
    {
     "name": "stdout",
     "output_type": "stream",
     "text": [
      "83/83 [==============================] - ETA: 0s - loss: 0.2891"
     ]
    },
    {
     "name": "stderr",
     "output_type": "stream",
     "text": [
      "2023-06-26 07:05:50.232166: I tensorflow/core/grappler/optimizers/custom_graph_optimizer_registry.cc:114] Plugin optimizer for device_type GPU is enabled.\n",
      "2023-06-26 07:05:50.269767: I tensorflow/core/grappler/optimizers/custom_graph_optimizer_registry.cc:114] Plugin optimizer for device_type GPU is enabled.\n"
     ]
    },
    {
     "name": "stdout",
     "output_type": "stream",
     "text": [
      "83/83 [==============================] - 3s 23ms/step - loss: 0.2891 - val_loss: 0.1666\n",
      "Epoch 2/30\n",
      "83/83 [==============================] - 1s 15ms/step - loss: 0.1510 - val_loss: 0.1287\n",
      "Epoch 3/30\n",
      "83/83 [==============================] - 1s 14ms/step - loss: 0.1381 - val_loss: 0.1000\n",
      "Epoch 4/30\n",
      "83/83 [==============================] - 1s 15ms/step - loss: 0.1283 - val_loss: 0.0928\n",
      "Epoch 5/30\n",
      "83/83 [==============================] - 1s 15ms/step - loss: 0.1260 - val_loss: 0.0805\n",
      "Epoch 6/30\n",
      "83/83 [==============================] - 1s 15ms/step - loss: 0.1196 - val_loss: 0.0662\n",
      "Epoch 7/30\n",
      "83/83 [==============================] - 1s 15ms/step - loss: 0.1164 - val_loss: 0.0672\n",
      "Epoch 8/30\n",
      "83/83 [==============================] - 1s 14ms/step - loss: 0.1110 - val_loss: 0.0567\n",
      "Epoch 9/30\n",
      "83/83 [==============================] - 1s 15ms/step - loss: 0.1114 - val_loss: 0.0490\n",
      "Epoch 10/30\n",
      "83/83 [==============================] - 1s 14ms/step - loss: 0.1074 - val_loss: 0.0413\n",
      "Epoch 11/30\n",
      "83/83 [==============================] - 1s 14ms/step - loss: 0.1031 - val_loss: 0.0499\n",
      "Epoch 12/30\n",
      "83/83 [==============================] - 1s 14ms/step - loss: 0.1022 - val_loss: 0.0396\n",
      "Epoch 13/30\n",
      "83/83 [==============================] - 1s 14ms/step - loss: 0.1039 - val_loss: 0.0411\n",
      "Epoch 14/30\n",
      "83/83 [==============================] - 1s 14ms/step - loss: 0.1004 - val_loss: 0.0337\n",
      "Epoch 15/30\n",
      "83/83 [==============================] - 1s 14ms/step - loss: 0.0989 - val_loss: 0.0422\n",
      "Epoch 16/30\n",
      "83/83 [==============================] - 1s 14ms/step - loss: 0.0980 - val_loss: 0.0291\n",
      "Epoch 17/30\n",
      "83/83 [==============================] - 1s 14ms/step - loss: 0.0978 - val_loss: 0.0349\n",
      "Epoch 18/30\n",
      "83/83 [==============================] - 1s 14ms/step - loss: 0.0963 - val_loss: 0.0264\n",
      "Epoch 19/30\n",
      "83/83 [==============================] - 1s 14ms/step - loss: 0.0961 - val_loss: 0.0345\n",
      "Epoch 20/30\n",
      "83/83 [==============================] - 1s 14ms/step - loss: 0.0952 - val_loss: 0.0344\n",
      "Epoch 21/30\n",
      "83/83 [==============================] - 1s 14ms/step - loss: 0.0943 - val_loss: 0.0255\n",
      "Epoch 22/30\n",
      "83/83 [==============================] - 1s 14ms/step - loss: 0.0944 - val_loss: 0.0277\n",
      "Epoch 23/30\n",
      "83/83 [==============================] - 1s 14ms/step - loss: 0.0925 - val_loss: 0.0243\n",
      "Epoch 24/30\n",
      "83/83 [==============================] - 1s 14ms/step - loss: 0.0921 - val_loss: 0.0244\n",
      "Epoch 25/30\n",
      "83/83 [==============================] - 1s 14ms/step - loss: 0.0924 - val_loss: 0.0174\n",
      "Epoch 26/30\n",
      "83/83 [==============================] - 1s 14ms/step - loss: 0.0915 - val_loss: 0.0309\n",
      "Epoch 27/30\n",
      "83/83 [==============================] - 1s 14ms/step - loss: 0.0911 - val_loss: 0.0186\n",
      "Epoch 28/30\n",
      "83/83 [==============================] - 1s 14ms/step - loss: 0.0912 - val_loss: 0.0389\n",
      "Epoch 29/30\n",
      "83/83 [==============================] - 1s 14ms/step - loss: 0.0914 - val_loss: 0.0243\n",
      "Epoch 30/30\n",
      "83/83 [==============================] - 1s 14ms/step - loss: 0.0910 - val_loss: 0.0257\n",
      "42/42 [==============================] - 0s 9ms/step - loss: 0.0976\n",
      "Epoch 1/30\n"
     ]
    },
    {
     "name": "stderr",
     "output_type": "stream",
     "text": [
      "/Users/maximilianrupprecht/miniforge3/envs/thesis_maximilian_rupprecht/lib/python3.10/site-packages/sklearn/model_selection/_validation.py:378: FitFailedWarning: \n",
      "6 fits failed out of a total of 20.\n",
      "The score on these train-test partitions for these parameters will be set to nan.\n",
      "If these failures are not expected, you can try to debug them by setting error_score='raise'.\n",
      "\n",
      "Below are more details about the failures:\n",
      "--------------------------------------------------------------------------------\n",
      "1 fits failed with the following error:\n",
      "Traceback (most recent call last):\n",
      "  File \"/Users/maximilianrupprecht/miniforge3/envs/thesis_maximilian_rupprecht/lib/python3.10/site-packages/sklearn/model_selection/_validation.py\", line 686, in _fit_and_score\n",
      "    estimator.fit(X_train, y_train, **fit_params)\n",
      "  File \"/Users/maximilianrupprecht/miniforge3/envs/thesis_maximilian_rupprecht/lib/python3.10/site-packages/keras/wrappers/scikit_learn.py\", line 164, in fit\n",
      "    self.model = self.build_fn(**self.filter_sk_params(self.build_fn))\n",
      "  File \"/var/folders/yq/sk49h1496dd6jjpb80f2pyph0000gn/T/ipykernel_18719/3266508981.py\", line 8, in build_model\n",
      "    model.add(LSTM(units=n_neurons, dropout=0.2))\n",
      "  File \"/Users/maximilianrupprecht/miniforge3/envs/thesis_maximilian_rupprecht/lib/python3.10/site-packages/tensorflow/python/trackable/base.py\", line 205, in _method_wrapper\n",
      "    result = method(self, *args, **kwargs)\n",
      "  File \"/Users/maximilianrupprecht/miniforge3/envs/thesis_maximilian_rupprecht/lib/python3.10/site-packages/keras/utils/traceback_utils.py\", line 70, in error_handler\n",
      "    raise e.with_traceback(filtered_tb) from None\n",
      "  File \"/Users/maximilianrupprecht/miniforge3/envs/thesis_maximilian_rupprecht/lib/python3.10/site-packages/keras/engine/input_spec.py\", line 232, in assert_input_compatibility\n",
      "    raise ValueError(\n",
      "ValueError: Input 0 of layer \"lstm_10\" is incompatible with the layer: expected ndim=3, found ndim=2. Full shape received: (None, 89)\n",
      "\n",
      "--------------------------------------------------------------------------------\n",
      "1 fits failed with the following error:\n",
      "Traceback (most recent call last):\n",
      "  File \"/Users/maximilianrupprecht/miniforge3/envs/thesis_maximilian_rupprecht/lib/python3.10/site-packages/sklearn/model_selection/_validation.py\", line 686, in _fit_and_score\n",
      "    estimator.fit(X_train, y_train, **fit_params)\n",
      "  File \"/Users/maximilianrupprecht/miniforge3/envs/thesis_maximilian_rupprecht/lib/python3.10/site-packages/keras/wrappers/scikit_learn.py\", line 164, in fit\n",
      "    self.model = self.build_fn(**self.filter_sk_params(self.build_fn))\n",
      "  File \"/var/folders/yq/sk49h1496dd6jjpb80f2pyph0000gn/T/ipykernel_18719/3266508981.py\", line 8, in build_model\n",
      "    model.add(LSTM(units=n_neurons, dropout=0.2))\n",
      "  File \"/Users/maximilianrupprecht/miniforge3/envs/thesis_maximilian_rupprecht/lib/python3.10/site-packages/tensorflow/python/trackable/base.py\", line 205, in _method_wrapper\n",
      "    result = method(self, *args, **kwargs)\n",
      "  File \"/Users/maximilianrupprecht/miniforge3/envs/thesis_maximilian_rupprecht/lib/python3.10/site-packages/keras/utils/traceback_utils.py\", line 70, in error_handler\n",
      "    raise e.with_traceback(filtered_tb) from None\n",
      "  File \"/Users/maximilianrupprecht/miniforge3/envs/thesis_maximilian_rupprecht/lib/python3.10/site-packages/keras/engine/input_spec.py\", line 232, in assert_input_compatibility\n",
      "    raise ValueError(\n",
      "ValueError: Input 0 of layer \"lstm_13\" is incompatible with the layer: expected ndim=3, found ndim=2. Full shape received: (None, 89)\n",
      "\n",
      "--------------------------------------------------------------------------------\n",
      "1 fits failed with the following error:\n",
      "Traceback (most recent call last):\n",
      "  File \"/Users/maximilianrupprecht/miniforge3/envs/thesis_maximilian_rupprecht/lib/python3.10/site-packages/sklearn/model_selection/_validation.py\", line 686, in _fit_and_score\n",
      "    estimator.fit(X_train, y_train, **fit_params)\n",
      "  File \"/Users/maximilianrupprecht/miniforge3/envs/thesis_maximilian_rupprecht/lib/python3.10/site-packages/keras/wrappers/scikit_learn.py\", line 164, in fit\n",
      "    self.model = self.build_fn(**self.filter_sk_params(self.build_fn))\n",
      "  File \"/var/folders/yq/sk49h1496dd6jjpb80f2pyph0000gn/T/ipykernel_18719/3266508981.py\", line 8, in build_model\n",
      "    model.add(LSTM(units=n_neurons, dropout=0.2))\n",
      "  File \"/Users/maximilianrupprecht/miniforge3/envs/thesis_maximilian_rupprecht/lib/python3.10/site-packages/tensorflow/python/trackable/base.py\", line 205, in _method_wrapper\n",
      "    result = method(self, *args, **kwargs)\n",
      "  File \"/Users/maximilianrupprecht/miniforge3/envs/thesis_maximilian_rupprecht/lib/python3.10/site-packages/keras/utils/traceback_utils.py\", line 70, in error_handler\n",
      "    raise e.with_traceback(filtered_tb) from None\n",
      "  File \"/Users/maximilianrupprecht/miniforge3/envs/thesis_maximilian_rupprecht/lib/python3.10/site-packages/keras/engine/input_spec.py\", line 232, in assert_input_compatibility\n",
      "    raise ValueError(\n",
      "ValueError: Input 0 of layer \"lstm_18\" is incompatible with the layer: expected ndim=3, found ndim=2. Full shape received: (None, 6)\n",
      "\n",
      "--------------------------------------------------------------------------------\n",
      "1 fits failed with the following error:\n",
      "Traceback (most recent call last):\n",
      "  File \"/Users/maximilianrupprecht/miniforge3/envs/thesis_maximilian_rupprecht/lib/python3.10/site-packages/sklearn/model_selection/_validation.py\", line 686, in _fit_and_score\n",
      "    estimator.fit(X_train, y_train, **fit_params)\n",
      "  File \"/Users/maximilianrupprecht/miniforge3/envs/thesis_maximilian_rupprecht/lib/python3.10/site-packages/keras/wrappers/scikit_learn.py\", line 164, in fit\n",
      "    self.model = self.build_fn(**self.filter_sk_params(self.build_fn))\n",
      "  File \"/var/folders/yq/sk49h1496dd6jjpb80f2pyph0000gn/T/ipykernel_18719/3266508981.py\", line 8, in build_model\n",
      "    model.add(LSTM(units=n_neurons, dropout=0.2))\n",
      "  File \"/Users/maximilianrupprecht/miniforge3/envs/thesis_maximilian_rupprecht/lib/python3.10/site-packages/tensorflow/python/trackable/base.py\", line 205, in _method_wrapper\n",
      "    result = method(self, *args, **kwargs)\n",
      "  File \"/Users/maximilianrupprecht/miniforge3/envs/thesis_maximilian_rupprecht/lib/python3.10/site-packages/keras/utils/traceback_utils.py\", line 70, in error_handler\n",
      "    raise e.with_traceback(filtered_tb) from None\n",
      "  File \"/Users/maximilianrupprecht/miniforge3/envs/thesis_maximilian_rupprecht/lib/python3.10/site-packages/keras/engine/input_spec.py\", line 232, in assert_input_compatibility\n",
      "    raise ValueError(\n",
      "ValueError: Input 0 of layer \"lstm_21\" is incompatible with the layer: expected ndim=3, found ndim=2. Full shape received: (None, 6)\n",
      "\n",
      "--------------------------------------------------------------------------------\n",
      "1 fits failed with the following error:\n",
      "Traceback (most recent call last):\n",
      "  File \"/Users/maximilianrupprecht/miniforge3/envs/thesis_maximilian_rupprecht/lib/python3.10/site-packages/sklearn/model_selection/_validation.py\", line 686, in _fit_and_score\n",
      "    estimator.fit(X_train, y_train, **fit_params)\n",
      "  File \"/Users/maximilianrupprecht/miniforge3/envs/thesis_maximilian_rupprecht/lib/python3.10/site-packages/keras/wrappers/scikit_learn.py\", line 164, in fit\n",
      "    self.model = self.build_fn(**self.filter_sk_params(self.build_fn))\n",
      "  File \"/var/folders/yq/sk49h1496dd6jjpb80f2pyph0000gn/T/ipykernel_18719/3266508981.py\", line 8, in build_model\n",
      "    model.add(LSTM(units=n_neurons, dropout=0.2))\n",
      "  File \"/Users/maximilianrupprecht/miniforge3/envs/thesis_maximilian_rupprecht/lib/python3.10/site-packages/tensorflow/python/trackable/base.py\", line 205, in _method_wrapper\n",
      "    result = method(self, *args, **kwargs)\n",
      "  File \"/Users/maximilianrupprecht/miniforge3/envs/thesis_maximilian_rupprecht/lib/python3.10/site-packages/keras/utils/traceback_utils.py\", line 70, in error_handler\n",
      "    raise e.with_traceback(filtered_tb) from None\n",
      "  File \"/Users/maximilianrupprecht/miniforge3/envs/thesis_maximilian_rupprecht/lib/python3.10/site-packages/keras/engine/input_spec.py\", line 232, in assert_input_compatibility\n",
      "    raise ValueError(\n",
      "ValueError: Input 0 of layer \"lstm_28\" is incompatible with the layer: expected ndim=3, found ndim=2. Full shape received: (None, 54)\n",
      "\n",
      "--------------------------------------------------------------------------------\n",
      "1 fits failed with the following error:\n",
      "Traceback (most recent call last):\n",
      "  File \"/Users/maximilianrupprecht/miniforge3/envs/thesis_maximilian_rupprecht/lib/python3.10/site-packages/sklearn/model_selection/_validation.py\", line 686, in _fit_and_score\n",
      "    estimator.fit(X_train, y_train, **fit_params)\n",
      "  File \"/Users/maximilianrupprecht/miniforge3/envs/thesis_maximilian_rupprecht/lib/python3.10/site-packages/keras/wrappers/scikit_learn.py\", line 164, in fit\n",
      "    self.model = self.build_fn(**self.filter_sk_params(self.build_fn))\n",
      "  File \"/var/folders/yq/sk49h1496dd6jjpb80f2pyph0000gn/T/ipykernel_18719/3266508981.py\", line 8, in build_model\n",
      "    model.add(LSTM(units=n_neurons, dropout=0.2))\n",
      "  File \"/Users/maximilianrupprecht/miniforge3/envs/thesis_maximilian_rupprecht/lib/python3.10/site-packages/tensorflow/python/trackable/base.py\", line 205, in _method_wrapper\n",
      "    result = method(self, *args, **kwargs)\n",
      "  File \"/Users/maximilianrupprecht/miniforge3/envs/thesis_maximilian_rupprecht/lib/python3.10/site-packages/keras/utils/traceback_utils.py\", line 70, in error_handler\n",
      "    raise e.with_traceback(filtered_tb) from None\n",
      "  File \"/Users/maximilianrupprecht/miniforge3/envs/thesis_maximilian_rupprecht/lib/python3.10/site-packages/keras/engine/input_spec.py\", line 232, in assert_input_compatibility\n",
      "    raise ValueError(\n",
      "ValueError: Input 0 of layer \"lstm_31\" is incompatible with the layer: expected ndim=3, found ndim=2. Full shape received: (None, 54)\n",
      "\n",
      "  warnings.warn(some_fits_failed_message, FitFailedWarning)\n",
      "/Users/maximilianrupprecht/miniforge3/envs/thesis_maximilian_rupprecht/lib/python3.10/site-packages/sklearn/model_selection/_search.py:952: UserWarning: One or more of the test scores are non-finite: [-0.12892462 -0.02261393 -0.1304895          nan -0.0918363          nan\n",
      " -0.10200915 -0.10186343         nan -0.10760983]\n",
      "  warnings.warn(\n",
      "2023-06-26 07:06:26.384149: I tensorflow/core/grappler/optimizers/custom_graph_optimizer_registry.cc:114] Plugin optimizer for device_type GPU is enabled.\n",
      "2023-06-26 07:06:26.546831: I tensorflow/core/grappler/optimizers/custom_graph_optimizer_registry.cc:114] Plugin optimizer for device_type GPU is enabled.\n",
      "2023-06-26 07:06:26.673963: I tensorflow/core/grappler/optimizers/custom_graph_optimizer_registry.cc:114] Plugin optimizer for device_type GPU is enabled.\n",
      "2023-06-26 07:06:26.798873: I tensorflow/core/grappler/optimizers/custom_graph_optimizer_registry.cc:114] Plugin optimizer for device_type GPU is enabled.\n"
     ]
    },
    {
     "name": "stdout",
     "output_type": "stream",
     "text": [
      "  1/125 [..............................] - ETA: 2:55 - loss: 1.1467"
     ]
    },
    {
     "name": "stderr",
     "output_type": "stream",
     "text": [
      "2023-06-26 07:06:26.996122: I tensorflow/core/grappler/optimizers/custom_graph_optimizer_registry.cc:114] Plugin optimizer for device_type GPU is enabled.\n"
     ]
    },
    {
     "name": "stdout",
     "output_type": "stream",
     "text": [
      "125/125 [==============================] - ETA: 0s - loss: 0.0538"
     ]
    },
    {
     "name": "stderr",
     "output_type": "stream",
     "text": [
      "2023-06-26 07:06:30.629292: I tensorflow/core/grappler/optimizers/custom_graph_optimizer_registry.cc:114] Plugin optimizer for device_type GPU is enabled.\n",
      "2023-06-26 07:06:30.684222: I tensorflow/core/grappler/optimizers/custom_graph_optimizer_registry.cc:114] Plugin optimizer for device_type GPU is enabled.\n",
      "2023-06-26 07:06:30.804469: I tensorflow/core/grappler/optimizers/custom_graph_optimizer_registry.cc:114] Plugin optimizer for device_type GPU is enabled.\n"
     ]
    },
    {
     "name": "stdout",
     "output_type": "stream",
     "text": [
      "125/125 [==============================] - 5s 32ms/step - loss: 0.0538 - val_loss: 0.0114\n",
      "Epoch 2/30\n",
      "125/125 [==============================] - 3s 21ms/step - loss: 0.0211 - val_loss: 0.0078\n",
      "Epoch 3/30\n",
      "125/125 [==============================] - 3s 21ms/step - loss: 0.0202 - val_loss: 0.0159\n",
      "Epoch 4/30\n",
      "125/125 [==============================] - 3s 21ms/step - loss: 0.0174 - val_loss: 0.0019\n",
      "Epoch 5/30\n",
      "125/125 [==============================] - 3s 21ms/step - loss: 0.0174 - val_loss: 0.0054\n",
      "Epoch 6/30\n",
      "125/125 [==============================] - 3s 21ms/step - loss: 0.0172 - val_loss: 0.0012\n",
      "Epoch 7/30\n",
      "125/125 [==============================] - 3s 21ms/step - loss: 0.0166 - val_loss: 0.0111\n",
      "Epoch 8/30\n",
      "125/125 [==============================] - 3s 21ms/step - loss: 0.0164 - val_loss: 0.0182\n",
      "Epoch 9/30\n",
      "125/125 [==============================] - 3s 21ms/step - loss: 0.0149 - val_loss: 0.0438\n",
      "Epoch 10/30\n",
      "125/125 [==============================] - 3s 22ms/step - loss: 0.0149 - val_loss: 0.0028\n",
      "Epoch 11/30\n",
      "125/125 [==============================] - 3s 22ms/step - loss: 0.0163 - val_loss: 0.0065\n",
      "Epoch 12/30\n",
      "125/125 [==============================] - 3s 22ms/step - loss: 0.0148 - val_loss: 0.0127\n",
      "Epoch 13/30\n",
      "125/125 [==============================] - 3s 21ms/step - loss: 0.0143 - val_loss: 0.0052\n",
      "Epoch 14/30\n",
      "125/125 [==============================] - 3s 21ms/step - loss: 0.0144 - val_loss: 0.0128\n",
      "Epoch 15/30\n",
      "125/125 [==============================] - 3s 21ms/step - loss: 0.0145 - val_loss: 0.0122\n"
     ]
    },
    {
     "data": {
      "text/plain": "RandomizedSearchCV(cv=TimeSeriesSplit(gap=0, max_train_size=None, n_splits=2, test_size=None),\n                   estimator=<keras.wrappers.scikit_learn.KerasRegressor object at 0x29d847f10>,\n                   param_distributions={'learning_rate': <scipy.stats._distn_infrastructure.rv_continuous_frozen object at 0x29d8474f0>,\n                                        'n_hidden': [0, 1, 2, 3],\n                                        'n_neurons': array([  6,   7,   8,   9,  10,  11,  12,  13,  14,  15,  16,  17,...\n        19,  20,  21,  22,  23,  24,  25,  26,  27,  28,  29,  30,  31,\n        32,  33,  34,  35,  36,  37,  38,  39,  40,  41,  42,  43,  44,\n        45,  46,  47,  48,  49,  50,  51,  52,  53,  54,  55,  56,  57,\n        58,  59,  60,  61,  62,  63,  64,  65,  66,  67,  68,  69,  70,\n        71,  72,  73,  74,  75,  76,  77,  78,  79,  80,  81,  82,  83,\n        84,  85,  86,  87,  88,  89,  90,  91,  92,  93,  94,  95,  96,\n        97,  98,  99, 100, 101, 102, 103, 104, 105, 106, 107, 108, 109,\n       110, 111, 112, 113, 114, 115, 116, 117, 118, 119, 120, 121, 122,\n       123, 124, 125, 126, 127])})",
      "text/html": "<style>#sk-container-id-1 {color: black;background-color: white;}#sk-container-id-1 pre{padding: 0;}#sk-container-id-1 div.sk-toggleable {background-color: white;}#sk-container-id-1 label.sk-toggleable__label {cursor: pointer;display: block;width: 100%;margin-bottom: 0;padding: 0.3em;box-sizing: border-box;text-align: center;}#sk-container-id-1 label.sk-toggleable__label-arrow:before {content: \"▸\";float: left;margin-right: 0.25em;color: #696969;}#sk-container-id-1 label.sk-toggleable__label-arrow:hover:before {color: black;}#sk-container-id-1 div.sk-estimator:hover label.sk-toggleable__label-arrow:before {color: black;}#sk-container-id-1 div.sk-toggleable__content {max-height: 0;max-width: 0;overflow: hidden;text-align: left;background-color: #f0f8ff;}#sk-container-id-1 div.sk-toggleable__content pre {margin: 0.2em;color: black;border-radius: 0.25em;background-color: #f0f8ff;}#sk-container-id-1 input.sk-toggleable__control:checked~div.sk-toggleable__content {max-height: 200px;max-width: 100%;overflow: auto;}#sk-container-id-1 input.sk-toggleable__control:checked~label.sk-toggleable__label-arrow:before {content: \"▾\";}#sk-container-id-1 div.sk-estimator input.sk-toggleable__control:checked~label.sk-toggleable__label {background-color: #d4ebff;}#sk-container-id-1 div.sk-label input.sk-toggleable__control:checked~label.sk-toggleable__label {background-color: #d4ebff;}#sk-container-id-1 input.sk-hidden--visually {border: 0;clip: rect(1px 1px 1px 1px);clip: rect(1px, 1px, 1px, 1px);height: 1px;margin: -1px;overflow: hidden;padding: 0;position: absolute;width: 1px;}#sk-container-id-1 div.sk-estimator {font-family: monospace;background-color: #f0f8ff;border: 1px dotted black;border-radius: 0.25em;box-sizing: border-box;margin-bottom: 0.5em;}#sk-container-id-1 div.sk-estimator:hover {background-color: #d4ebff;}#sk-container-id-1 div.sk-parallel-item::after {content: \"\";width: 100%;border-bottom: 1px solid gray;flex-grow: 1;}#sk-container-id-1 div.sk-label:hover label.sk-toggleable__label {background-color: #d4ebff;}#sk-container-id-1 div.sk-serial::before {content: \"\";position: absolute;border-left: 1px solid gray;box-sizing: border-box;top: 0;bottom: 0;left: 50%;z-index: 0;}#sk-container-id-1 div.sk-serial {display: flex;flex-direction: column;align-items: center;background-color: white;padding-right: 0.2em;padding-left: 0.2em;position: relative;}#sk-container-id-1 div.sk-item {position: relative;z-index: 1;}#sk-container-id-1 div.sk-parallel {display: flex;align-items: stretch;justify-content: center;background-color: white;position: relative;}#sk-container-id-1 div.sk-item::before, #sk-container-id-1 div.sk-parallel-item::before {content: \"\";position: absolute;border-left: 1px solid gray;box-sizing: border-box;top: 0;bottom: 0;left: 50%;z-index: -1;}#sk-container-id-1 div.sk-parallel-item {display: flex;flex-direction: column;z-index: 1;position: relative;background-color: white;}#sk-container-id-1 div.sk-parallel-item:first-child::after {align-self: flex-end;width: 50%;}#sk-container-id-1 div.sk-parallel-item:last-child::after {align-self: flex-start;width: 50%;}#sk-container-id-1 div.sk-parallel-item:only-child::after {width: 0;}#sk-container-id-1 div.sk-dashed-wrapped {border: 1px dashed gray;margin: 0 0.4em 0.5em 0.4em;box-sizing: border-box;padding-bottom: 0.4em;background-color: white;}#sk-container-id-1 div.sk-label label {font-family: monospace;font-weight: bold;display: inline-block;line-height: 1.2em;}#sk-container-id-1 div.sk-label-container {text-align: center;}#sk-container-id-1 div.sk-container {/* jupyter's `normalize.less` sets `[hidden] { display: none; }` but bootstrap.min.css set `[hidden] { display: none !important; }` so we also need the `!important` here to be able to override the default hidden behavior on the sphinx rendered scikit-learn.org. See: https://github.com/scikit-learn/scikit-learn/issues/21755 */display: inline-block !important;position: relative;}#sk-container-id-1 div.sk-text-repr-fallback {display: none;}</style><div id=\"sk-container-id-1\" class=\"sk-top-container\"><div class=\"sk-text-repr-fallback\"><pre>RandomizedSearchCV(cv=TimeSeriesSplit(gap=0, max_train_size=None, n_splits=2, test_size=None),\n                   estimator=&lt;keras.wrappers.scikit_learn.KerasRegressor object at 0x29d847f10&gt;,\n                   param_distributions={&#x27;learning_rate&#x27;: &lt;scipy.stats._distn_infrastructure.rv_continuous_frozen object at 0x29d8474f0&gt;,\n                                        &#x27;n_hidden&#x27;: [0, 1, 2, 3],\n                                        &#x27;n_neurons&#x27;: array([  6,   7,   8,   9,  10,  11,  12,  13,  14,  15,  16,  17,...\n        19,  20,  21,  22,  23,  24,  25,  26,  27,  28,  29,  30,  31,\n        32,  33,  34,  35,  36,  37,  38,  39,  40,  41,  42,  43,  44,\n        45,  46,  47,  48,  49,  50,  51,  52,  53,  54,  55,  56,  57,\n        58,  59,  60,  61,  62,  63,  64,  65,  66,  67,  68,  69,  70,\n        71,  72,  73,  74,  75,  76,  77,  78,  79,  80,  81,  82,  83,\n        84,  85,  86,  87,  88,  89,  90,  91,  92,  93,  94,  95,  96,\n        97,  98,  99, 100, 101, 102, 103, 104, 105, 106, 107, 108, 109,\n       110, 111, 112, 113, 114, 115, 116, 117, 118, 119, 120, 121, 122,\n       123, 124, 125, 126, 127])})</pre><b>In a Jupyter environment, please rerun this cell to show the HTML representation or trust the notebook. <br />On GitHub, the HTML representation is unable to render, please try loading this page with nbviewer.org.</b></div><div class=\"sk-container\" hidden><div class=\"sk-item sk-dashed-wrapped\"><div class=\"sk-label-container\"><div class=\"sk-label sk-toggleable\"><input class=\"sk-toggleable__control sk-hidden--visually\" id=\"sk-estimator-id-1\" type=\"checkbox\" ><label for=\"sk-estimator-id-1\" class=\"sk-toggleable__label sk-toggleable__label-arrow\">RandomizedSearchCV</label><div class=\"sk-toggleable__content\"><pre>RandomizedSearchCV(cv=TimeSeriesSplit(gap=0, max_train_size=None, n_splits=2, test_size=None),\n                   estimator=&lt;keras.wrappers.scikit_learn.KerasRegressor object at 0x29d847f10&gt;,\n                   param_distributions={&#x27;learning_rate&#x27;: &lt;scipy.stats._distn_infrastructure.rv_continuous_frozen object at 0x29d8474f0&gt;,\n                                        &#x27;n_hidden&#x27;: [0, 1, 2, 3],\n                                        &#x27;n_neurons&#x27;: array([  6,   7,   8,   9,  10,  11,  12,  13,  14,  15,  16,  17,...\n        19,  20,  21,  22,  23,  24,  25,  26,  27,  28,  29,  30,  31,\n        32,  33,  34,  35,  36,  37,  38,  39,  40,  41,  42,  43,  44,\n        45,  46,  47,  48,  49,  50,  51,  52,  53,  54,  55,  56,  57,\n        58,  59,  60,  61,  62,  63,  64,  65,  66,  67,  68,  69,  70,\n        71,  72,  73,  74,  75,  76,  77,  78,  79,  80,  81,  82,  83,\n        84,  85,  86,  87,  88,  89,  90,  91,  92,  93,  94,  95,  96,\n        97,  98,  99, 100, 101, 102, 103, 104, 105, 106, 107, 108, 109,\n       110, 111, 112, 113, 114, 115, 116, 117, 118, 119, 120, 121, 122,\n       123, 124, 125, 126, 127])})</pre></div></div></div><div class=\"sk-parallel\"><div class=\"sk-parallel-item\"><div class=\"sk-item\"><div class=\"sk-label-container\"><div class=\"sk-label sk-toggleable\"><input class=\"sk-toggleable__control sk-hidden--visually\" id=\"sk-estimator-id-2\" type=\"checkbox\" ><label for=\"sk-estimator-id-2\" class=\"sk-toggleable__label sk-toggleable__label-arrow\">estimator: KerasRegressor</label><div class=\"sk-toggleable__content\"><pre>&lt;keras.wrappers.scikit_learn.KerasRegressor object at 0x29d847f10&gt;</pre></div></div></div><div class=\"sk-serial\"><div class=\"sk-item\"><div class=\"sk-estimator sk-toggleable\"><input class=\"sk-toggleable__control sk-hidden--visually\" id=\"sk-estimator-id-3\" type=\"checkbox\" ><label for=\"sk-estimator-id-3\" class=\"sk-toggleable__label sk-toggleable__label-arrow\">KerasRegressor</label><div class=\"sk-toggleable__content\"><pre>&lt;keras.wrappers.scikit_learn.KerasRegressor object at 0x29d847f10&gt;</pre></div></div></div></div></div></div></div></div></div></div>"
     },
     "execution_count": 5,
     "metadata": {},
     "output_type": "execute_result"
    }
   ],
   "source": [
    "early = EarlyStopping(monitor='val_loss', patience=9)\n",
    "batch_size = 32\n",
    "\n",
    "# Hyperparameters to be examined\n",
    "param_distribs = {\n",
    "    'n_hidden': [0,1,2,3],\n",
    "    'n_neurons': np.arange(6, 128),\n",
    "    'learning_rate': reciprocal(3e-4, 3e-2),\n",
    "}\n",
    "\n",
    "# Split Trainingsdata\n",
    "tscv = TimeSeriesSplit(n_splits=2)\n",
    "\n",
    "rnd_search_cv = RandomizedSearchCV(keras_reg, param_distribs, n_iter=10, cv=tscv)\n",
    "rnd_search_cv.fit(X_train, y_train, epochs=30, validation_data=(X_23_test, y_23_test), batch_size=batch_size, callbacks=[early])"
   ],
   "metadata": {
    "collapsed": false,
    "ExecuteTime": {
     "end_time": "2023-06-26T05:07:08.074246Z",
     "start_time": "2023-06-26T05:01:25.863893Z"
    }
   }
  },
  {
   "cell_type": "markdown",
   "source": [
    "## Ergebnisse der Hyperparameteroptimierung"
   ],
   "metadata": {
    "collapsed": false
   }
  },
  {
   "cell_type": "code",
   "execution_count": 6,
   "outputs": [
    {
     "name": "stdout",
     "output_type": "stream",
     "text": [
      "{'learning_rate': 0.002600495445170466, 'n_hidden': 1, 'n_neurons': 66}\n",
      "-0.022613931447267532\n"
     ]
    }
   ],
   "source": [
    "print(rnd_search_cv.best_params_)\n",
    "print(rnd_search_cv.best_score_)"
   ],
   "metadata": {
    "collapsed": false,
    "ExecuteTime": {
     "end_time": "2023-06-26T05:07:08.074788Z",
     "start_time": "2023-06-26T05:07:08.074055Z"
    }
   }
  }
 ],
 "metadata": {
  "kernelspec": {
   "display_name": "Python 3",
   "language": "python",
   "name": "python3"
  },
  "language_info": {
   "codemirror_mode": {
    "name": "ipython",
    "version": 2
   },
   "file_extension": ".py",
   "mimetype": "text/x-python",
   "name": "python",
   "nbconvert_exporter": "python",
   "pygments_lexer": "ipython2",
   "version": "2.7.6"
  }
 },
 "nbformat": 4,
 "nbformat_minor": 0
}
